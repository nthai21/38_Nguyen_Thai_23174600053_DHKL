{
 "cells": [
  {
   "cell_type": "code",
   "execution_count": 1,
   "metadata": {},
   "outputs": [
    {
     "name": "stdout",
     "output_type": "stream",
     "text": [
      "Đã in lần thứ : 1\n",
      "Đã in lần thứ : 1\n",
      "Đã in lần thứ : 1\n",
      "Đã in lần thứ : 1\n",
      "Đã in lần thứ : 2\n",
      "Đã in lần thứ : 2\n",
      "Đã in lần thứ : 2\n",
      "Đã in lần thứ : 2\n",
      "Đã in lần thứ : 3\n",
      "Đã in lần thứ : 3\n",
      "Đã in lần thứ : 3\n",
      "Đã in lần thứ : 3\n"
     ]
    }
   ],
   "source": [
    "import threading\n",
    "import time\n",
    "class SimpleTask:\n",
    "   def run_task(self):\n",
    "       for i in range(1, 4):\n",
    "        print('Đã in lần thứ :',i)\n",
    "        time.sleep(1)\n",
    "def main():\n",
    "# Tạo và khởi chạy nhiều threads\n",
    "   tasks = [threading.Thread(target=SimpleTask().run_task) for _ in range(4)]\n",
    "   for task in tasks:\n",
    "    task.start()\n",
    "   for task in tasks:\n",
    "      task.join()\n",
    "if __name__ == \"__main__\":\n",
    "    main()"
   ]
  }
 ],
 "metadata": {
  "kernelspec": {
   "display_name": "Python 3",
   "language": "python",
   "name": "python3"
  },
  "language_info": {
   "codemirror_mode": {
    "name": "ipython",
    "version": 3
   },
   "file_extension": ".py",
   "mimetype": "text/x-python",
   "name": "python",
   "nbconvert_exporter": "python",
   "pygments_lexer": "ipython3",
   "version": "3.13.1"
  }
 },
 "nbformat": 4,
 "nbformat_minor": 2
}
