{
 "cells": [
  {
   "cell_type": "code",
   "execution_count": 2,
   "metadata": {},
   "outputs": [
    {
     "name": "stderr",
     "output_type": "stream",
     "text": [
      "Exception in thread Thread-3 (run_task):\n",
      "Exception in thread Thread-6 (run_task):\n",
      "Exception in thread Thread-5 (run_task):\n",
      "Exception in thread Thread-4 (run_task):\n",
      "Traceback (most recent call last):\n",
      "  File \"c:\\Users\\Surface Laptop\\AppData\\Local\\Programs\\Python\\Python313\\Lib\\threading.py\", line 1041, in _bootstrap_inner\n",
      "    self.run()\n",
      "    ~~~~~~~~^^\n",
      "  File \"C:\\Users\\Surface Laptop\\AppData\\Roaming\\Python\\Python313\\site-packages\\ipykernel\\ipkernel.py\", line 766, in run_closure\n",
      "    _threading_Thread_run(self)\n",
      "    ~~~~~~~~~~~~~~~~~~~~~^^^^^^\n",
      "  File \"c:\\Users\\Surface Laptop\\AppData\\Local\\Programs\\Python\\Python313\\Lib\\threading.py\", line 992, in run\n",
      "    self._target(*self._args, **self._kwargs)\n",
      "    ~~~~~~~~~~~~^^^^^^^^^^^^^^^^^^^^^^^^^^^^^\n",
      "  File \"C:\\Users\\Surface Laptop\\AppData\\Local\\Temp\\ipykernel_7824\\2831452531.py\", line 8, in run_task\n",
      "    counter += 1 # Tăng counter mà không sử dụng lock\n",
      "    ^^^^^^^\n",
      "NameError: name 'counter' is not defined\n",
      "Traceback (most recent call last):\n",
      "  File \"c:\\Users\\Surface Laptop\\AppData\\Local\\Programs\\Python\\Python313\\Lib\\threading.py\", line 1041, in _bootstrap_inner\n",
      "    self.run()\n",
      "    ~~~~~~~~^^\n",
      "  File \"C:\\Users\\Surface Laptop\\AppData\\Roaming\\Python\\Python313\\site-packages\\ipykernel\\ipkernel.py\", line 766, in run_closure\n",
      "    _threading_Thread_run(self)\n",
      "    ~~~~~~~~~~~~~~~~~~~~~^^^^^^\n",
      "  File \"c:\\Users\\Surface Laptop\\AppData\\Local\\Programs\\Python\\Python313\\Lib\\threading.py\", line 992, in run\n",
      "    self._target(*self._args, **self._kwargs)\n",
      "    ~~~~~~~~~~~~^^^^^^^^^^^^^^^^^^^^^^^^^^^^^\n",
      "  File \"C:\\Users\\Surface Laptop\\AppData\\Local\\Temp\\ipykernel_7824\\2831452531.py\", line 8, in run_task\n",
      "    counter += 1 # Tăng counter mà không sử dụng lock\n",
      "    ^^^^^^^\n",
      "NameError: name 'counter' is not defined\n",
      "Traceback (most recent call last):\n",
      "  File \"c:\\Users\\Surface Laptop\\AppData\\Local\\Programs\\Python\\Python313\\Lib\\threading.py\", line 1041, in _bootstrap_inner\n",
      "    self.run()\n",
      "    ~~~~~~~~^^\n",
      "  File \"C:\\Users\\Surface Laptop\\AppData\\Roaming\\Python\\Python313\\site-packages\\ipykernel\\ipkernel.py\", line 766, in run_closure\n",
      "    _threading_Thread_run(self)\n",
      "    ~~~~~~~~~~~~~~~~~~~~~^^^^^^\n",
      "  File \"c:\\Users\\Surface Laptop\\AppData\\Local\\Programs\\Python\\Python313\\Lib\\threading.py\", line 992, in run\n",
      "    self._target(*self._args, **self._kwargs)\n",
      "    ~~~~~~~~~~~~^^^^^^^^^^^^^^^^^^^^^^^^^^^^^\n",
      "  File \"C:\\Users\\Surface Laptop\\AppData\\Local\\Temp\\ipykernel_7824\\2831452531.py\", line 8, in run_task\n",
      "    counter += 1 # Tăng counter mà không sử dụng lock\n",
      "    ^^^^^^^\n",
      "NameError: name 'counter' is not defined\n",
      "Traceback (most recent call last):\n",
      "  File \"c:\\Users\\Surface Laptop\\AppData\\Local\\Programs\\Python\\Python313\\Lib\\threading.py\", line 1041, in _bootstrap_inner\n",
      "    self.run()\n",
      "    ~~~~~~~~^^\n",
      "  File \"C:\\Users\\Surface Laptop\\AppData\\Roaming\\Python\\Python313\\site-packages\\ipykernel\\ipkernel.py\", line 766, in run_closure\n",
      "    _threading_Thread_run(self)\n",
      "    ~~~~~~~~~~~~~~~~~~~~~^^^^^^\n",
      "  File \"c:\\Users\\Surface Laptop\\AppData\\Local\\Programs\\Python\\Python313\\Lib\\threading.py\", line 992, in run\n",
      "    self._target(*self._args, **self._kwargs)\n",
      "    ~~~~~~~~~~~~^^^^^^^^^^^^^^^^^^^^^^^^^^^^^\n",
      "  File \"C:\\Users\\Surface Laptop\\AppData\\Local\\Temp\\ipykernel_7824\\2831452531.py\", line 8, in run_task\n",
      "    counter += 1 # Tăng counter mà không sử dụng lock\n",
      "    ^^^^^^^\n",
      "NameError: name 'counter' is not defined\n"
     ]
    }
   ],
   "source": [
    "import threading\n",
    "import time\n",
    "class SimpleTask:\n",
    "  def run_task(self):\n",
    "    global counter\n",
    "    for _ in range(4):\n",
    "       time.sleep(2)\n",
    "       counter += 1 # Tăng counter mà không sử dụng lock\n",
    "       print(f\"Counter đã tăng lên: {counter}\")\n",
    "def main():\n",
    "   tasks = [threading.Thread(target=SimpleTask().run_task) for _ in range(4)]\n",
    "   for task in tasks:\n",
    "    task.start()\n",
    "   for task in tasks:\n",
    "    task.join()\n",
    "if __name__ == \"__main__\":\n",
    "  main()\n"
   ]
  }
 ],
 "metadata": {
  "kernelspec": {
   "display_name": "Python 3",
   "language": "python",
   "name": "python3"
  },
  "language_info": {
   "codemirror_mode": {
    "name": "ipython",
    "version": 3
   },
   "file_extension": ".py",
   "mimetype": "text/x-python",
   "name": "python",
   "nbconvert_exporter": "python",
   "pygments_lexer": "ipython3",
   "version": "3.13.1"
  }
 },
 "nbformat": 4,
 "nbformat_minor": 2
}
