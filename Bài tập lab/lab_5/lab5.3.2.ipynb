{
 "cells": [
  {
   "cell_type": "code",
   "execution_count": 1,
   "metadata": {},
   "outputs": [
    {
     "name": "stdout",
     "output_type": "stream",
     "text": [
      "Counter đã tăng lên: 1\n",
      "Counter đã tăng lên: 2\n",
      "Counter đã tăng lên: 3\n",
      "Counter đã tăng lên: 4\n",
      "Counter đã tăng lên: 5\n",
      "Counter đã tăng lên: 6\n",
      "Counter đã tăng lên: 7\n",
      "Counter đã tăng lên: 8\n",
      "Counter đã tăng lên: 9\n",
      "Counter đã tăng lên: 10\n",
      "Counter đã tăng lên: 11\n",
      "Counter đã tăng lên: 12\n"
     ]
    }
   ],
   "source": [
    "import threading\n",
    "import time\n",
    "counter = 0\n",
    "counter_lock = threading.Lock()\n",
    "class SimpleTask:\n",
    "   def run_task(self):\n",
    "       global counter\n",
    "       for _ in range(3):\n",
    "           time.sleep(2)\n",
    "           with counter_lock:\n",
    "                counter += 1\n",
    "                print(f\"Counter đã tăng lên: {counter}\")\n",
    "def main():\n",
    "    tasks = [threading.Thread(target=SimpleTask().run_task) for _ in range(4)]\n",
    "    for task in tasks:\n",
    "        task.start()\n",
    "    for task in tasks:\n",
    "        task.join()\n",
    "if __name__ == \"__main__\":\n",
    "    main()\n"
   ]
  }
 ],
 "metadata": {
  "kernelspec": {
   "display_name": "Python 3",
   "language": "python",
   "name": "python3"
  },
  "language_info": {
   "codemirror_mode": {
    "name": "ipython",
    "version": 3
   },
   "file_extension": ".py",
   "mimetype": "text/x-python",
   "name": "python",
   "nbconvert_exporter": "python",
   "pygments_lexer": "ipython3",
   "version": "3.13.1"
  }
 },
 "nbformat": 4,
 "nbformat_minor": 2
}
