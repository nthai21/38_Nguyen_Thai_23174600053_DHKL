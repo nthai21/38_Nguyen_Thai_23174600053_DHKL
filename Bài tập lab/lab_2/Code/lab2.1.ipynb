{
 "cells": [
  {
   "cell_type": "code",
   "execution_count": 1,
   "metadata": {},
   "outputs": [
    {
     "name": "stdout",
     "output_type": "stream",
     "text": [
      "Nhiệt độ hàng ngày trong tháng (°C): [22.49 34.01 29.64 26.97 18.12 18.12 16.16 32.32 27.02 29.16 15.41 34.4\n",
      " 31.65 19.25 18.64 18.67 21.08 25.5  23.64 20.82 27.24 17.79 20.84 22.33\n",
      " 24.12 30.7  18.99 25.28 26.85 15.93]\n",
      "Nhiệt độ trung bình trong tháng (°C): 23.77\n"
     ]
    }
   ],
   "source": [
    "import numpy as np\n",
    "\n",
    "# Tạo mảng Numpy mô phỏng nhiệt độ hàng ngày trong một tháng (30 ngày)\n",
    "np.random.seed(42)  # Đặt seed để đảm bảo kết quả nhất quán\n",
    "nhiet_do = np.round(np.random.uniform(15.0, 35.0, 30), 2)\n",
    "\n",
    "# Tính nhiệt độ trung bình\n",
    "nhiet_do_tb = np.mean(nhiet_do)\n",
    "print(\"Nhiệt độ hàng ngày trong tháng (°C):\", nhiet_do)\n",
    "print(\"Nhiệt độ trung bình trong tháng (°C):\", round(nhiet_do_tb , 2))"
   ]
  },
  {
   "cell_type": "code",
   "execution_count": 2,
   "metadata": {},
   "outputs": [
    {
     "name": "stdout",
     "output_type": "stream",
     "text": [
      "Nhiệt độ cao nhất: 34.4°C, vào ngày thứ 12.\n",
      "Nhiệt độ thấp nhất: 15.41°C, vào ngày thứ 11.\n",
      "Sự chênh lệch nhiệt độ lớn nhất giữa hai ngày liên tiếp: 18.99°C.\n",
      "Chênh lệch này xảy ra giữa ngày thứ 11 và ngày thứ 12.\n"
     ]
    }
   ],
   "source": [
    "max_do = np.max(nhiet_do)\n",
    "min_do  = np.min(nhiet_do)\n",
    "max_day = np.argmax(nhiet_do) + 1  # Ngày bắt đầu từ 1\n",
    "min_day = np.argmin(nhiet_do) + 1\n",
    "\n",
    "# Tính sự chênh lệch nhiệt độ giữa các ngày (giá trị tuyệt đối)\n",
    "temp_diff = np.abs(np.diff(nhiet_do))\n",
    "max_diff = np.max(temp_diff)\n",
    "max_diff_day = np.argmax(temp_diff) + 1  # Ngày mà sự chênh lệch xảy ra\n",
    "\n",
    "# Kết quả\n",
    "print(f\"Nhiệt độ cao nhất: {max_do }°C, vào ngày thứ {max_day}.\")\n",
    "print(f\"Nhiệt độ thấp nhất: {min_do }°C, vào ngày thứ {min_day}.\")\n",
    "print(f\"Sự chênh lệch nhiệt độ lớn nhất giữa hai ngày liên tiếp: {max_diff}°C.\")\n",
    "print(f\"Chênh lệch này xảy ra giữa ngày thứ {max_diff_day} và ngày thứ {max_diff_day + 1}.\")"
   ]
  },
  {
   "cell_type": "code",
   "execution_count": 3,
   "metadata": {},
   "outputs": [
    {
     "name": "stdout",
     "output_type": "stream",
     "text": [
      "1. Ngày có nhiệt độ cao hơn 20°C:\n",
      "Ngày: [ 1  2  3  4  8  9 10 12 13 17 18 19 20 21 23 24 25 26 28 29]\n",
      "Nhiệt độ: [22.49 34.01 29.64 26.97 32.32 27.02 29.16 34.4  31.65 21.08 25.5  23.64\n",
      " 20.82 27.24 20.84 22.33 24.12 30.7  25.28 26.85]\n",
      "\n",
      "2. Nhiệt độ của ngày 5, 10, 15, 20, 25:\n",
      "Nhiệt độ: [18.12 29.16 18.64 20.82 24.12]\n",
      "\n",
      "3. Ngày có nhiệt độ trên trung bình:\n",
      "Ngày: [ 2  3  4  8  9 10 12 13 18 21 25 26 28 29]\n",
      "Nhiệt độ: [34.01 29.64 26.97 32.32 27.02 29.16 34.4  31.65 25.5  27.24 24.12 30.7\n",
      " 25.28 26.85]\n",
      "\n",
      "4. Nhiệt độ của các ngày chẵn:\n",
      "Nhiệt độ: [34.01 26.97 18.12 32.32 29.16 34.4  19.25 18.67 25.5  20.82 17.79 22.33\n",
      " 30.7  25.28 15.93]\n",
      "\n",
      "4. Nhiệt độ của các ngày lẻ:\n",
      "Nhiệt độ: [22.49 29.64 18.12 16.16 27.02 15.41 31.65 18.64 21.08 23.64 27.24 20.84\n",
      " 24.12 18.99 26.85]\n"
     ]
    }
   ],
   "source": [
    "days_above_20 = np.where(nhiet_do  > 20)[0] + 1  # Ngày bắt đầu từ 1\n",
    "temps_above_20 = nhiet_do [nhiet_do > 20]\n",
    "\n",
    "# 2. Lấy nhiệt độ của ngày 5, 10, 15, 20, và 25\n",
    "specific_days = [5, 10, 15, 20, 25]\n",
    "temps_specific_days = nhiet_do[np.array(specific_days) - 1]  # Chỉ số mảng bắt đầu từ 0\n",
    "\n",
    "# 3. Tìm nhiệt độ của các ngày có nhiệt độ trên trung bình\n",
    "average_temp = np.mean(nhiet_do)\n",
    "above_avg_days = np.where(nhiet_do  > average_temp)[0] + 1\n",
    "above_avg_temps = nhiet_do [nhiet_do  > average_temp]\n",
    "\n",
    "# 4. Lấy nhiệt độ của các ngày chẵn/lẻ trong tháng\n",
    "even_days = np.arange(2, 31, 2)  # Các ngày chẵn từ 2 đến 30\n",
    "odd_days = np.arange(1, 31, 2)   # Các ngày lẻ từ 1 đến 29\n",
    "\n",
    "temps_even_days = nhiet_do [even_days - 1]  # Trừ 1 để chuyển sang chỉ số mảng\n",
    "temps_odd_days = nhiet_do [odd_days - 1]\n",
    "\n",
    "# Kết quả\n",
    "print(\"1. Ngày có nhiệt độ cao hơn 20°C:\")\n",
    "print(\"Ngày:\", days_above_20)\n",
    "print(\"Nhiệt độ:\", temps_above_20)\n",
    "\n",
    "print(\"\\n2. Nhiệt độ của ngày 5, 10, 15, 20, 25:\")\n",
    "print(\"Nhiệt độ:\", temps_specific_days)\n",
    "\n",
    "print(\"\\n3. Ngày có nhiệt độ trên trung bình:\")\n",
    "print(\"Ngày:\", above_avg_days)\n",
    "print(\"Nhiệt độ:\", above_avg_temps)\n",
    "\n",
    "print(\"\\n4. Nhiệt độ của các ngày chẵn:\")\n",
    "print(\"Nhiệt độ:\", temps_even_days)\n",
    "\n",
    "print(\"\\n4. Nhiệt độ của các ngày lẻ:\")\n",
    "print(\"Nhiệt độ:\", temps_odd_days)"
   ]
  }
 ],
 "metadata": {
  "kernelspec": {
   "display_name": "Python 3",
   "language": "python",
   "name": "python3"
  },
  "language_info": {
   "codemirror_mode": {
    "name": "ipython",
    "version": 3
   },
   "file_extension": ".py",
   "mimetype": "text/x-python",
   "name": "python",
   "nbconvert_exporter": "python",
   "pygments_lexer": "ipython3",
   "version": "3.13.1"
  }
 },
 "nbformat": 4,
 "nbformat_minor": 2
}
