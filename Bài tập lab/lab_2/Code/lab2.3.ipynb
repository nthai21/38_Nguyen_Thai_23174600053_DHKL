{
 "cells": [
  {
   "cell_type": "code",
   "execution_count": 4,
   "metadata": {},
   "outputs": [],
   "source": [
    "import numpy as np"
   ]
  },
  {
   "cell_type": "markdown",
   "metadata": {},
   "source": [
    "phần 1:"
   ]
  },
  {
   "cell_type": "code",
   "execution_count": 5,
   "metadata": {},
   "outputs": [
    {
     "name": "stdout",
     "output_type": "stream",
     "text": [
      "danh sách đọc từ file efficiency.txt:\n"
     ]
    },
    {
     "name": "stderr",
     "output_type": "stream",
     "text": [
      "<>:1: SyntaxWarning: invalid escape sequence '\\D'\n",
      "<>:1: SyntaxWarning: invalid escape sequence '\\D'\n",
      "C:\\Users\\Surface Laptop\\AppData\\Local\\Temp\\ipykernel_7240\\2973350189.py:1: SyntaxWarning: invalid escape sequence '\\D'\n",
      "  path_1=\"D:\\DHKL_17a2\\Bài tập lab\\lab_2\\Data\\efficiency.txt\"\n"
     ]
    },
    {
     "data": {
      "text/plain": [
       "[94.0,\n",
       " 97.0,\n",
       " 114.0,\n",
       " 117.0,\n",
       " 117.0,\n",
       " 59.0,\n",
       " 133.0,\n",
       " 71.0,\n",
       " 86.0,\n",
       " 137.0,\n",
       " 120.0,\n",
       " 138.0,\n",
       " 138.0,\n",
       " 62.0,\n",
       " 108.0,\n",
       " 115.0,\n",
       " 89.0,\n",
       " 137.0,\n",
       " 96.0,\n",
       " 138.0,\n",
       " 131.0,\n",
       " 87.0,\n",
       " 75.0,\n",
       " 127.0,\n",
       " 122.0,\n",
       " 59.0,\n",
       " 70.0,\n",
       " 130.0,\n",
       " 119.0,\n",
       " 129.0,\n",
       " 97.0,\n",
       " 114.0,\n",
       " 132.0,\n",
       " 149.0,\n",
       " 138.0,\n",
       " 99.0,\n",
       " 79.0,\n",
       " 69.0,\n",
       " 69.0,\n",
       " 64.0,\n",
       " 89.0,\n",
       " 82.0,\n",
       " 115.0,\n",
       " 59.0,\n",
       " 107.0,\n",
       " 82.0,\n",
       " 81.0,\n",
       " 124.0,\n",
       " 73.0,\n",
       " 85.0,\n",
       " 125.0,\n",
       " 105.0,\n",
       " 78.0,\n",
       " 84.0,\n",
       " 50.0,\n",
       " 50.0,\n",
       " 86.0,\n",
       " 103.0,\n",
       " 55.0,\n",
       " 88.0,\n",
       " 67.0,\n",
       " 129.0,\n",
       " 54.0,\n",
       " 92.0,\n",
       " 108.0,\n",
       " 81.0,\n",
       " 51.0,\n",
       " 115.0,\n",
       " 91.0,\n",
       " 107.0,\n",
       " 85.0,\n",
       " 61.0,\n",
       " 96.0,\n",
       " 132.0,\n",
       " 141.0,\n",
       " 50.0,\n",
       " 64.0,\n",
       " 149.0,\n",
       " 103.0,\n",
       " 62.0,\n",
       " 92.0,\n",
       " 134.0,\n",
       " 125.0,\n",
       " 118.0,\n",
       " 56.0,\n",
       " 118.0,\n",
       " 97.0,\n",
       " 53.0,\n",
       " 126.0,\n",
       " 102.0,\n",
       " 128.0,\n",
       " 65.0,\n",
       " 70.0,\n",
       " 149.0,\n",
       " 108.0,\n",
       " 73.0,\n",
       " 129.0,\n",
       " 63.0,\n",
       " 135.0,\n",
       " 98.0]"
      ]
     },
     "execution_count": 5,
     "metadata": {},
     "output_type": "execute_result"
    }
   ],
   "source": [
    "path_1=\"D:\\DHKL_17a2\\Bài tập lab\\lab_2\\Data\\efficiency.txt\"\n",
    "efficiency=[]\n",
    "with open (path_1,encoding='utf-8') as file:\n",
    "    efficiency=np.loadtxt(file,dtype=float)  \n",
    "print(\"danh sách đọc từ file efficiency.txt:\")\n",
    "efficiency.tolist()"
   ]
  },
  {
   "cell_type": "code",
   "execution_count": 6,
   "metadata": {},
   "outputs": [
    {
     "name": "stdout",
     "output_type": "stream",
     "text": [
      "danh sách đọc từ file shifts.txt:\n"
     ]
    },
    {
     "name": "stderr",
     "output_type": "stream",
     "text": [
      "<>:1: SyntaxWarning: invalid escape sequence '\\D'\n",
      "<>:1: SyntaxWarning: invalid escape sequence '\\D'\n",
      "C:\\Users\\Surface Laptop\\AppData\\Local\\Temp\\ipykernel_7240\\494518482.py:1: SyntaxWarning: invalid escape sequence '\\D'\n",
      "  path_2=\"D:\\DHKL_17a2\\Bài tập lab\\lab_2\\Data\\shifts.txt\"\n"
     ]
    },
    {
     "data": {
      "text/plain": [
       "['Afternoon',\n",
       " 'Afternoon',\n",
       " 'Afternoon',\n",
       " 'Morning',\n",
       " 'Afternoon',\n",
       " 'Night',\n",
       " 'Morning',\n",
       " 'Afternoon',\n",
       " 'Night',\n",
       " 'Morning',\n",
       " 'Night',\n",
       " 'Morning',\n",
       " 'Afternoon',\n",
       " 'Night',\n",
       " 'Night',\n",
       " 'Afternoon',\n",
       " 'Morning',\n",
       " 'Afternoon',\n",
       " 'Afternoon',\n",
       " 'Morning',\n",
       " 'Night',\n",
       " 'Night',\n",
       " 'Night',\n",
       " 'Night',\n",
       " 'Afternoon',\n",
       " 'Night',\n",
       " 'Night',\n",
       " 'Night',\n",
       " 'Night',\n",
       " 'Night',\n",
       " 'Morning',\n",
       " 'Afternoon',\n",
       " 'Night',\n",
       " 'Night',\n",
       " 'Afternoon',\n",
       " 'Night',\n",
       " 'Afternoon',\n",
       " 'Morning',\n",
       " 'Night',\n",
       " 'Night',\n",
       " 'Morning',\n",
       " 'Night',\n",
       " 'Morning',\n",
       " 'Morning',\n",
       " 'Night',\n",
       " 'Morning',\n",
       " 'Night',\n",
       " 'Night',\n",
       " 'Night',\n",
       " 'Morning',\n",
       " 'Morning',\n",
       " 'Morning',\n",
       " 'Afternoon',\n",
       " 'Night',\n",
       " 'Morning',\n",
       " 'Afternoon',\n",
       " 'Night',\n",
       " 'Night',\n",
       " 'Night',\n",
       " 'Afternoon',\n",
       " 'Morning',\n",
       " 'Morning',\n",
       " 'Morning',\n",
       " 'Morning',\n",
       " 'Night',\n",
       " 'Night',\n",
       " 'Morning',\n",
       " 'Morning',\n",
       " 'Morning',\n",
       " 'Afternoon',\n",
       " 'Night',\n",
       " 'Morning',\n",
       " 'Morning',\n",
       " 'Afternoon',\n",
       " 'Morning',\n",
       " 'Night',\n",
       " 'Afternoon',\n",
       " 'Afternoon',\n",
       " 'Afternoon',\n",
       " 'Morning',\n",
       " 'Morning',\n",
       " 'Morning',\n",
       " 'Afternoon',\n",
       " 'Afternoon',\n",
       " 'Night',\n",
       " 'Afternoon',\n",
       " 'Morning',\n",
       " 'Morning',\n",
       " 'Afternoon',\n",
       " 'Night',\n",
       " 'Afternoon',\n",
       " 'Afternoon',\n",
       " 'Afternoon',\n",
       " 'Morning',\n",
       " 'Morning',\n",
       " 'Morning',\n",
       " 'Afternoon',\n",
       " 'Night',\n",
       " 'Afternoon',\n",
       " 'Afternoon']"
      ]
     },
     "execution_count": 6,
     "metadata": {},
     "output_type": "execute_result"
    }
   ],
   "source": [
    "path_2=\"D:\\DHKL_17a2\\Bài tập lab\\lab_2\\Data\\shifts.txt\"\n",
    "shifts=[]\n",
    "with open (path_2,'r',encoding='utf-8') as txtfile:\n",
    "    shifts=np.loadtxt(txtfile,dtype=str)  \n",
    "print(\"danh sách đọc từ file shifts.txt:\")\n",
    "shifts.tolist()"
   ]
  },
  {
   "cell_type": "markdown",
   "metadata": {},
   "source": [
    "phần 2:"
   ]
  },
  {
   "cell_type": "code",
   "execution_count": 7,
   "metadata": {},
   "outputs": [
    {
     "name": "stdout",
     "output_type": "stream",
     "text": [
      "mảng numpy tạo từ list shifts:\n",
      "['Afternoon' 'Afternoon' 'Afternoon' 'Morning' 'Afternoon' 'Night'\n",
      " 'Morning' 'Afternoon' 'Night' 'Morning' 'Night' 'Morning' 'Afternoon'\n",
      " 'Night' 'Night' 'Afternoon' 'Morning' 'Afternoon' 'Afternoon' 'Morning'\n",
      " 'Night' 'Night' 'Night' 'Night' 'Afternoon' 'Night' 'Night' 'Night'\n",
      " 'Night' 'Night' 'Morning' 'Afternoon' 'Night' 'Night' 'Afternoon' 'Night'\n",
      " 'Afternoon' 'Morning' 'Night' 'Night' 'Morning' 'Night' 'Morning'\n",
      " 'Morning' 'Night' 'Morning' 'Night' 'Night' 'Night' 'Morning' 'Morning'\n",
      " 'Morning' 'Afternoon' 'Night' 'Morning' 'Afternoon' 'Night' 'Night'\n",
      " 'Night' 'Afternoon' 'Morning' 'Morning' 'Morning' 'Morning' 'Night'\n",
      " 'Night' 'Morning' 'Morning' 'Morning' 'Afternoon' 'Night' 'Morning'\n",
      " 'Morning' 'Afternoon' 'Morning' 'Night' 'Afternoon' 'Afternoon'\n",
      " 'Afternoon' 'Morning' 'Morning' 'Morning' 'Afternoon' 'Afternoon' 'Night'\n",
      " 'Afternoon' 'Morning' 'Morning' 'Afternoon' 'Night' 'Afternoon'\n",
      " 'Afternoon' 'Afternoon' 'Morning' 'Morning' 'Morning' 'Afternoon' 'Night'\n",
      " 'Afternoon' 'Afternoon']\n",
      "Kiểu dữ liệu của np_shifts là: <U9\n"
     ]
    }
   ],
   "source": [
    "np_shifts=np.array(shifts)\n",
    "print(\"mảng numpy tạo từ list shifts:\")\n",
    "print(np_shifts)\n",
    "print(\"Kiểu dữ liệu của np_shifts là:\",np_shifts.dtype)"
   ]
  },
  {
   "cell_type": "markdown",
   "metadata": {},
   "source": [
    "phần 3:"
   ]
  },
  {
   "cell_type": "code",
   "execution_count": 8,
   "metadata": {},
   "outputs": [
    {
     "name": "stdout",
     "output_type": "stream",
     "text": [
      "Mảng được tạo list efficiency :\n",
      "[ 94.  97. 114. 117. 117.  59. 133.  71.  86. 137. 120. 138. 138.  62.\n",
      " 108. 115.  89. 137.  96. 138. 131.  87.  75. 127. 122.  59.  70. 130.\n",
      " 119. 129.  97. 114. 132. 149. 138.  99.  79.  69.  69.  64.  89.  82.\n",
      " 115.  59. 107.  82.  81. 124.  73.  85. 125. 105.  78.  84.  50.  50.\n",
      "  86. 103.  55.  88.  67. 129.  54.  92. 108.  81.  51. 115.  91. 107.\n",
      "  85.  61.  96. 132. 141.  50.  64. 149. 103.  62.  92. 134. 125. 118.\n",
      "  56. 118.  97.  53. 126. 102. 128.  65.  70. 149. 108.  73. 129.  63.\n",
      " 135.  98.]\n",
      "Kiểu dữ liệu của np_efficiency: float64\n"
     ]
    }
   ],
   "source": [
    "np_efficiency=np.array(efficiency)\n",
    "print(\"Mảng được tạo list efficiency :\")\n",
    "print(np_efficiency)\n",
    "print(\"Kiểu dữ liệu của np_efficiency:\",np_efficiency.dtype)"
   ]
  },
  {
   "cell_type": "markdown",
   "metadata": {},
   "source": [
    "phần 4:"
   ]
  },
  {
   "cell_type": "code",
   "execution_count": 9,
   "metadata": {},
   "outputs": [
    {
     "name": "stdout",
     "output_type": "stream",
     "text": [
      "Hiệu suất trung bình ca 'Morning': 96.8529411764706\n"
     ]
    }
   ],
   "source": [
    "morning_indices=np_shifts=='Morning'\n",
    "morning_efficiency=np_efficiency[morning_indices]\n",
    "average_1=np.mean(morning_efficiency)\n",
    "print(\"Hiệu suất trung bình ca 'Morning':\",average_1)"
   ]
  },
  {
   "cell_type": "markdown",
   "metadata": {},
   "source": [
    "phần5:"
   ]
  },
  {
   "cell_type": "code",
   "execution_count": 10,
   "metadata": {},
   "outputs": [
    {
     "name": "stdout",
     "output_type": "stream",
     "text": [
      "Hiệu suất trung bình của ca không phải 'Morning': 98.93939393939394\n"
     ]
    }
   ],
   "source": [
    "other_indicies=np_shifts!='Morning'\n",
    "other_efficiency=np_efficiency[other_indicies]\n",
    "average_2=np.mean(other_efficiency)\n",
    "print(\"Hiệu suất trung bình của ca không phải 'Morning':\",average_2)"
   ]
  },
  {
   "cell_type": "markdown",
   "metadata": {},
   "source": [
    "câu 6:"
   ]
  },
  {
   "cell_type": "code",
   "execution_count": 11,
   "metadata": {},
   "outputs": [
    {
     "name": "stdout",
     "output_type": "stream",
     "text": [
      "Mảng dữ liệu workers:\n",
      "[('Afternoon',  94.) ('Afternoon',  97.) ('Afternoon', 114.)\n",
      " ('Morning', 117.) ('Afternoon', 117.) ('Night',  59.) ('Morning', 133.)\n",
      " ('Afternoon',  71.) ('Night',  86.) ('Morning', 137.) ('Night', 120.)\n",
      " ('Morning', 138.) ('Afternoon', 138.) ('Night',  62.) ('Night', 108.)\n",
      " ('Afternoon', 115.) ('Morning',  89.) ('Afternoon', 137.)\n",
      " ('Afternoon',  96.) ('Morning', 138.) ('Night', 131.) ('Night',  87.)\n",
      " ('Night',  75.) ('Night', 127.) ('Afternoon', 122.) ('Night',  59.)\n",
      " ('Night',  70.) ('Night', 130.) ('Night', 119.) ('Night', 129.)\n",
      " ('Morning',  97.) ('Afternoon', 114.) ('Night', 132.) ('Night', 149.)\n",
      " ('Afternoon', 138.) ('Night',  99.) ('Afternoon',  79.) ('Morning',  69.)\n",
      " ('Night',  69.) ('Night',  64.) ('Morning',  89.) ('Night',  82.)\n",
      " ('Morning', 115.) ('Morning',  59.) ('Night', 107.) ('Morning',  82.)\n",
      " ('Night',  81.) ('Night', 124.) ('Night',  73.) ('Morning',  85.)\n",
      " ('Morning', 125.) ('Morning', 105.) ('Afternoon',  78.) ('Night',  84.)\n",
      " ('Morning',  50.) ('Afternoon',  50.) ('Night',  86.) ('Night', 103.)\n",
      " ('Night',  55.) ('Afternoon',  88.) ('Morning',  67.) ('Morning', 129.)\n",
      " ('Morning',  54.) ('Morning',  92.) ('Night', 108.) ('Night',  81.)\n",
      " ('Morning',  51.) ('Morning', 115.) ('Morning',  91.) ('Afternoon', 107.)\n",
      " ('Night',  85.) ('Morning',  61.) ('Morning',  96.) ('Afternoon', 132.)\n",
      " ('Morning', 141.) ('Night',  50.) ('Afternoon',  64.) ('Afternoon', 149.)\n",
      " ('Afternoon', 103.) ('Morning',  62.) ('Morning',  92.) ('Morning', 134.)\n",
      " ('Afternoon', 125.) ('Afternoon', 118.) ('Night',  56.)\n",
      " ('Afternoon', 118.) ('Morning',  97.) ('Morning',  53.)\n",
      " ('Afternoon', 126.) ('Night', 102.) ('Afternoon', 128.)\n",
      " ('Afternoon',  65.) ('Afternoon',  70.) ('Morning', 149.)\n",
      " ('Morning', 108.) ('Morning',  73.) ('Afternoon', 129.) ('Night',  63.)\n",
      " ('Afternoon', 135.) ('Afternoon',  98.)]\n"
     ]
    }
   ],
   "source": [
    "workers = np.zeros(len(np_shifts), dtype={'names': ('shift', 'efficiency'),\n",
    "                                          'formats': ('<U10', 'float')})\n",
    "workers['shift'] = np_shifts\n",
    "workers['efficiency'] = np_efficiency\n",
    "print(\"Mảng dữ liệu workers:\")\n",
    "print(workers)"
   ]
  },
  {
   "cell_type": "markdown",
   "metadata": {},
   "source": [
    "câu 7:"
   ]
  },
  {
   "cell_type": "code",
   "execution_count": 12,
   "metadata": {},
   "outputs": [
    {
     "name": "stdout",
     "output_type": "stream",
     "text": [
      "Mảng workers sắp xếp theo efficiency:\n",
      "[('Afternoon',  50.) ('Morning',  50.) ('Night',  50.) ('Morning',  51.)\n",
      " ('Morning',  53.) ('Morning',  54.) ('Night',  55.) ('Night',  56.)\n",
      " ('Morning',  59.) ('Night',  59.) ('Night',  59.) ('Morning',  61.)\n",
      " ('Morning',  62.) ('Night',  62.) ('Night',  63.) ('Afternoon',  64.)\n",
      " ('Night',  64.) ('Afternoon',  65.) ('Morning',  67.) ('Morning',  69.)\n",
      " ('Night',  69.) ('Afternoon',  70.) ('Night',  70.) ('Afternoon',  71.)\n",
      " ('Morning',  73.) ('Night',  73.) ('Night',  75.) ('Afternoon',  78.)\n",
      " ('Afternoon',  79.) ('Night',  81.) ('Night',  81.) ('Morning',  82.)\n",
      " ('Night',  82.) ('Night',  84.) ('Morning',  85.) ('Night',  85.)\n",
      " ('Night',  86.) ('Night',  86.) ('Night',  87.) ('Afternoon',  88.)\n",
      " ('Morning',  89.) ('Morning',  89.) ('Morning',  91.) ('Morning',  92.)\n",
      " ('Morning',  92.) ('Afternoon',  94.) ('Afternoon',  96.)\n",
      " ('Morning',  96.) ('Afternoon',  97.) ('Morning',  97.) ('Morning',  97.)\n",
      " ('Afternoon',  98.) ('Night',  99.) ('Night', 102.) ('Afternoon', 103.)\n",
      " ('Night', 103.) ('Morning', 105.) ('Afternoon', 107.) ('Night', 107.)\n",
      " ('Morning', 108.) ('Night', 108.) ('Night', 108.) ('Afternoon', 114.)\n",
      " ('Afternoon', 114.) ('Afternoon', 115.) ('Morning', 115.)\n",
      " ('Morning', 115.) ('Afternoon', 117.) ('Morning', 117.)\n",
      " ('Afternoon', 118.) ('Afternoon', 118.) ('Night', 119.) ('Night', 120.)\n",
      " ('Afternoon', 122.) ('Night', 124.) ('Afternoon', 125.) ('Morning', 125.)\n",
      " ('Afternoon', 126.) ('Night', 127.) ('Afternoon', 128.)\n",
      " ('Afternoon', 129.) ('Morning', 129.) ('Night', 129.) ('Night', 130.)\n",
      " ('Night', 131.) ('Afternoon', 132.) ('Night', 132.) ('Morning', 133.)\n",
      " ('Morning', 134.) ('Afternoon', 135.) ('Afternoon', 137.)\n",
      " ('Morning', 137.) ('Afternoon', 138.) ('Afternoon', 138.)\n",
      " ('Morning', 138.) ('Morning', 138.) ('Morning', 141.) ('Afternoon', 149.)\n",
      " ('Morning', 149.) ('Night', 149.)]\n"
     ]
    }
   ],
   "source": [
    "sorted_workers = np.sort(workers, order='efficiency')\n",
    "print(\"Mảng workers sắp xếp theo efficiency:\")\n",
    "print(sorted_workers)"
   ]
  },
  {
   "cell_type": "code",
   "execution_count": 13,
   "metadata": {},
   "outputs": [
    {
     "name": "stdout",
     "output_type": "stream",
     "text": [
      "\n",
      "Ca làm việc có hiệu suất cao nhất: Night\n",
      "Ca làm việc có hiệu suất thấp nhất: Afternoon\n"
     ]
    }
   ],
   "source": [
    "highest_efficiency_shift = sorted_workers[-1]['shift']\n",
    "lowest_efficiency_shift = sorted_workers[0]['shift']\n",
    "print(\"\\nCa làm việc có hiệu suất cao nhất:\", highest_efficiency_shift)\n",
    "print(\"Ca làm việc có hiệu suất thấp nhất:\", lowest_efficiency_shift)"
   ]
  }
 ],
 "metadata": {
  "kernelspec": {
   "display_name": "Python 3",
   "language": "python",
   "name": "python3"
  },
  "language_info": {
   "codemirror_mode": {
    "name": "ipython",
    "version": 3
   },
   "file_extension": ".py",
   "mimetype": "text/x-python",
   "name": "python",
   "nbconvert_exporter": "python",
   "pygments_lexer": "ipython3",
   "version": "3.13.1"
  }
 },
 "nbformat": 4,
 "nbformat_minor": 2
}
