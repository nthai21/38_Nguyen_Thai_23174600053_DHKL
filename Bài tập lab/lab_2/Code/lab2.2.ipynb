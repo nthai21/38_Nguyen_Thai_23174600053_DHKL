{
 "cells": [
  {
   "cell_type": "code",
   "execution_count": 52,
   "metadata": {},
   "outputs": [
    {
     "name": "stdout",
     "output_type": "stream",
     "text": [
      "Điểm trung bình: 15.50\n",
      "Điểm cao nhất: 30.0\n",
      "Điểm thấp nhất: 1.0\n",
      "Độ lệch chuẩn: 8.66\n"
     ]
    },
    {
     "name": "stderr",
     "output_type": "stream",
     "text": [
      "<>:4: SyntaxWarning: invalid escape sequence '\\D'\n",
      "<>:4: SyntaxWarning: invalid escape sequence '\\D'\n",
      "C:\\Users\\Surface Laptop\\AppData\\Local\\Temp\\ipykernel_7220\\3420002140.py:4: SyntaxWarning: invalid escape sequence '\\D'\n",
      "  filename = \"D:\\DHKL_17a2\\Bài tập lab\\lab_2/Data/diem_hoc_phan.csv\"\n"
     ]
    }
   ],
   "source": [
    "import numpy as np\n",
    "import csv\n",
    "# Đọc dữ liệu fle csv\n",
    "filename = \"D:\\DHKL_17a2\\Bài tập lab\\lab_2/Data/diem_hoc_phan.csv\"\n",
    "scores_list = []\n",
    "with open(filename, mode='r', encoding='utf-8') as file:\n",
    "    reader = csv.reader(file)\n",
    "    next(reader)  # Bỏ qua header\n",
    "    for row in reader:\n",
    "        scores_list.append(float(row[0]))  # Giả định cột điểm nằm ở cột đầu tiên\n",
    "\n",
    "    # Chuyển đổi sang mảng NumPy\n",
    "scores_array = np.array(scores_list)\n",
    "\n",
    "    # Tính toán các thống kê\n",
    "average_score = np.mean(scores_array)\n",
    "max_score = np.max(scores_array)\n",
    "min_score = np.min(scores_array)\n",
    "std_dev = np.std(scores_array)\n",
    "\n",
    "    # Hiển thị kết quả\n",
    "print(f\"Điểm trung bình: {average_score:.2f}\")\n",
    "print(f\"Điểm cao nhất: {max_score}\")\n",
    "print(f\"Điểm thấp nhất: {min_score}\")\n",
    "print(f\"Độ lệch chuẩn: {std_dev:.2f}\")\n",
    "\n",
    "\n"
   ]
  },
  {
   "cell_type": "code",
   "execution_count": 51,
   "metadata": {},
   "outputs": [
    {
     "name": "stdout",
     "output_type": "stream",
     "text": [
      "\n",
      "Kết quả qui đổi điểm số:\n",
      "Điểm: 1.0 -> Điểm tín chỉ: F\n",
      "Điểm: 2.0 -> Điểm tín chỉ: F\n",
      "Điểm: 3.0 -> Điểm tín chỉ: F\n",
      "Điểm: 4.0 -> Điểm tín chỉ: D\n",
      "Điểm: 5.0 -> Điểm tín chỉ: D+\n",
      "Điểm: 6.0 -> Điểm tín chỉ: C\n",
      "Điểm: 7.0 -> Điểm tín chỉ: B\n",
      "Điểm: 8.0 -> Điểm tín chỉ: B+\n",
      "Điểm: 9.0 -> Điểm tín chỉ: A\n",
      "Điểm: 10.0 -> Điểm tín chỉ: A\n",
      "Điểm: 11.0 -> Điểm tín chỉ: F\n",
      "Điểm: 12.0 -> Điểm tín chỉ: F\n",
      "Điểm: 13.0 -> Điểm tín chỉ: F\n",
      "Điểm: 14.0 -> Điểm tín chỉ: F\n",
      "Điểm: 15.0 -> Điểm tín chỉ: F\n",
      "Điểm: 16.0 -> Điểm tín chỉ: F\n",
      "Điểm: 17.0 -> Điểm tín chỉ: F\n",
      "Điểm: 18.0 -> Điểm tín chỉ: F\n",
      "Điểm: 19.0 -> Điểm tín chỉ: F\n",
      "Điểm: 20.0 -> Điểm tín chỉ: F\n",
      "Điểm: 21.0 -> Điểm tín chỉ: F\n",
      "Điểm: 22.0 -> Điểm tín chỉ: F\n",
      "Điểm: 23.0 -> Điểm tín chỉ: F\n",
      "Điểm: 24.0 -> Điểm tín chỉ: F\n",
      "Điểm: 25.0 -> Điểm tín chỉ: F\n",
      "Điểm: 26.0 -> Điểm tín chỉ: F\n",
      "Điểm: 27.0 -> Điểm tín chỉ: F\n",
      "Điểm: 28.0 -> Điểm tín chỉ: F\n",
      "Điểm: 29.0 -> Điểm tín chỉ: F\n",
      "Điểm: 30.0 -> Điểm tín chỉ: F\n"
     ]
    }
   ],
   "source": [
    "def convert_grade(score):\n",
    "    \"\"\"Chuyển đổi điểm từ thang 10 sang điểm tín chỉ\"\"\"\n",
    "    if 8.5 <= score <= 10:\n",
    "        return 'A'\n",
    "    elif 8.0 <= score < 8.5:\n",
    "        return 'B+'\n",
    "    elif 7.0 <= score < 8.0:\n",
    "        return 'B'\n",
    "    elif 6.5 <= score < 7.0:\n",
    "        return 'C+'\n",
    "    elif 5.5 <= score < 6.5:\n",
    "        return 'C'\n",
    "    elif 5.0 <= score < 5.5:\n",
    "        return 'D+'\n",
    "    elif 4.0 <= score < 5.0:\n",
    "        return 'D'\n",
    "    else:\n",
    "        return 'F'\n",
    "converted_grades= [convert_grade(score) for score in scores_array]\n",
    "\n",
    "    # In ra kết quả điểm và điểm tín chỉ tương ứng\n",
    "print(\"\\nKết quả qui đổi điểm số:\")\n",
    "for score, grade in zip(scores_array, converted_grades):\n",
    "    print(f\"Điểm: {score} -> Điểm tín chỉ: {converted_grades}\")\n"
   ]
  },
  {
   "cell_type": "code",
   "execution_count": null,
   "metadata": {},
   "outputs": [],
   "source": []
  }
 ],
 "metadata": {
  "kernelspec": {
   "display_name": "Python 3",
   "language": "python",
   "name": "python3"
  },
  "language_info": {
   "codemirror_mode": {
    "name": "ipython",
    "version": 3
   },
   "file_extension": ".py",
   "mimetype": "text/x-python",
   "name": "python",
   "nbconvert_exporter": "python",
   "pygments_lexer": "ipython3",
   "version": "3.13.1"
  }
 },
 "nbformat": 4,
 "nbformat_minor": 2
}
