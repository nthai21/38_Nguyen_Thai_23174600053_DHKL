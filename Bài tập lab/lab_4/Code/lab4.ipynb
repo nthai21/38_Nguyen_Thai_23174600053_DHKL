{
 "cells": [
  {
   "cell_type": "code",
   "execution_count": 4,
   "metadata": {},
   "outputs": [],
   "source": [
    "import sqlite3"
   ]
  },
  {
   "cell_type": "code",
   "execution_count": 5,
   "metadata": {},
   "outputs": [
    {
     "name": "stderr",
     "output_type": "stream",
     "text": [
      "<>:1: SyntaxWarning: invalid escape sequence '\\B'\n",
      "<>:1: SyntaxWarning: invalid escape sequence '\\B'\n",
      "C:\\Users\\Surface Laptop\\AppData\\Local\\Temp\\ipykernel_12708\\761234888.py:1: SyntaxWarning: invalid escape sequence '\\B'\n",
      "  conn = sqlite3.connect('D:\\Bài tập lab\\lab_4\\Data\\product(1).db')\n"
     ]
    }
   ],
   "source": [
    "conn = sqlite3.connect('D:\\Bài tập lab\\lab_4\\Data\\product(1).db')\n",
    "cursor = conn.cursor()"
   ]
  },
  {
   "cell_type": "code",
   "execution_count": 6,
   "metadata": {},
   "outputs": [],
   "source": [
    "cursor.execute('''\n",
    "CREATE TABLE IF NOT EXISTS product (\n",
    "    Id INTEGER PRIMARY KEY,\n",
    "    Name TEXT NOT NULL,\n",
    "    Price REAL NOT NULL,\n",
    "    Amount INTEGER NOT NULL\n",
    ")\n",
    "''')\n",
    "\n",
    "conn.commit()\n",
    "conn.close()"
   ]
  },
  {
   "cell_type": "code",
   "execution_count": 7,
   "metadata": {},
   "outputs": [],
   "source": [
    "def hien_thi_san_pham():\n",
    "    conn=sqlite3.connect('product.db')\n",
    "    cursor = conn.cursor()\n",
    "    cursor.execute('SELECT * FROM product')\n",
    "    products = cursor.fetchall()\n",
    "    print(\"ID | Name | Price | Amount\")\n",
    "    for product in products:\n",
    "        print(f\"{product[0]} | {product[1]} | {product[2]} | {product[3]}\")\n",
    "    conn.close()"
   ]
  },
  {
   "cell_type": "code",
   "execution_count": 8,
   "metadata": {},
   "outputs": [],
   "source": [
    "def them_san_pham():\n",
    "    name = input(\"Nhập tên sản phẩm: \")\n",
    "    price = float(input(\"Nhập giá sản phẩm: \"))\n",
    "    amount = int(input(\"Nhập số lượng sản phẩm: \"))\n",
    "    conn = sqlite3.connect('product.db')\n",
    "    cursor = conn.cursor()\n",
    "    cursor.execute('INSERT INTO product (Name, Price, Amount) VALUES (?, ?, ?)', (name, price, amount))\n",
    "    conn.commit()\n",
    "    conn.close()\n",
    "    print(\"Thêm sản phẩm thành công!\")"
   ]
  },
  {
   "cell_type": "code",
   "execution_count": 9,
   "metadata": {},
   "outputs": [],
   "source": [
    "def tim_kiem_san_pham():\n",
    "    name = input(\"Nhập tên sản phẩm cần tìm: \")\n",
    "    conn = sqlite3.connect('product.db')\n",
    "    cursor = conn.cursor()\n",
    "    cursor.execute('SELECT * FROM product WHERE Name LIKE ?', ('%' + name + '%',))\n",
    "    products = cursor.fetchall()\n",
    "    if products:\n",
    "        print(\"ID | Tên Sản Phẩm | Giá | Số Lượng\")\n",
    "        for product in products:\n",
    "            print(f\"{product[0]} | {product[1]} | {product[2]} | {product[3]}\")\n",
    "    else:\n",
    "        print(\"Không tìm thấy sản phẩm nào.\")\n",
    "    conn.close()"
   ]
  },
  {
   "cell_type": "code",
   "execution_count": 10,
   "metadata": {},
   "outputs": [],
   "source": [
    "def cap_nhat_san_pham():\n",
    "    product_id = int(input(\"Nhập ID sản phẩm cần cập nhật: \"))\n",
    "    new_price = float(input(\"Nhập giá mới: \"))\n",
    "    new_amount = int(input(\"Nhập số lượng mới: \"))\n",
    "    conn = sqlite3.connect('product.db')\n",
    "    cursor = conn.cursor()\n",
    "    cursor.execute('UPDATE product SET Price = ?, Amount = ? WHERE Id = ?', (new_price, new_amount, product_id))\n",
    "    conn.commit()\n",
    "    conn.close()\n",
    "    print(\"Cập nhật sản phẩm thành công!\")"
   ]
  },
  {
   "cell_type": "code",
   "execution_count": 11,
   "metadata": {},
   "outputs": [],
   "source": [
    "def xoa_san_pham():\n",
    "    product_id = int(input(\"Nhập ID sản phẩm cần xóa: \"))\n",
    "    conn = sqlite3.connect('product.db')\n",
    "    cursor = conn.cursor()\n",
    "    cursor.execute('DELETE FROM product WHERE Id = ?', (product_id,))\n",
    "    conn.commit()\n",
    "    conn.close()\n",
    "    print(\"Xóa sản phẩm thành công!\")"
   ]
  },
  {
   "cell_type": "code",
   "execution_count": null,
   "metadata": {},
   "outputs": [
    {
     "name": "stdout",
     "output_type": "stream",
     "text": [
      "\n",
      "Menu:\n",
      "1. Hiển Thị Danh Sách Sản Phẩm\n",
      "2. Thêm Sản Phẩm Mới\n",
      "3. Tìm Kiếm Sản Phẩm Theo Tên\n",
      "4. Cập Nhật Thông Tin Sản Phẩm\n",
      "5. Xóa Sản Phẩm\n",
      "6. Thoát\n"
     ]
    }
   ],
   "source": [
    "def menu():\n",
    "    while True:\n",
    "        print(\"\\nMenu:\")\n",
    "        print(\"1. Hiển Thị Danh Sách Sản Phẩm\")\n",
    "        print(\"2. Thêm Sản Phẩm Mới\")\n",
    "        print(\"3. Tìm Kiếm Sản Phẩm Theo Tên\")\n",
    "        print(\"4. Cập Nhật Thông Tin Sản Phẩm\")\n",
    "        print(\"5. Xóa Sản Phẩm\")\n",
    "        print(\"6. Thoát\")\n",
    "        choice = input(\"Chọn chức năng: \")\n",
    "        if choice == '1':\n",
    "            hien_thi_san_pham()\n",
    "        elif choice == '2':\n",
    "            them_san_pham()\n",
    "        elif choice == '3':\n",
    "            tim_kiem_san_pham()\n",
    "        elif choice == '4':\n",
    "            cap_nhat_san_pham()\n",
    "        elif choice == '5':\n",
    "            xoa_san_pham()\n",
    "        elif choice == '6':\n",
    "            print(\"Thoát chương trình...\")\n",
    "            break\n",
    "        else:\n",
    "            print(\"Lựa chọn không hợp lệ, vui lòng chọn lại.\")\n",
    "\n",
    "menu()\n"
   ]
  }
 ],
 "metadata": {
  "kernelspec": {
   "display_name": "Python 3",
   "language": "python",
   "name": "python3"
  },
  "language_info": {
   "codemirror_mode": {
    "name": "ipython",
    "version": 3
   },
   "file_extension": ".py",
   "mimetype": "text/x-python",
   "name": "python",
   "nbconvert_exporter": "python",
   "pygments_lexer": "ipython3",
   "version": "3.13.1"
  }
 },
 "nbformat": 4,
 "nbformat_minor": 2
}
