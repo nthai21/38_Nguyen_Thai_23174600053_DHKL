{
 "cells": [
  {
   "cell_type": "code",
   "execution_count": 1,
   "metadata": {},
   "outputs": [
    {
     "name": "stderr",
     "output_type": "stream",
     "text": [
      "<>:7: SyntaxWarning: invalid escape sequence '\\D'\n",
      "<>:8: SyntaxWarning: invalid escape sequence '\\D'\n",
      "<>:9: SyntaxWarning: invalid escape sequence '\\D'\n",
      "<>:7: SyntaxWarning: invalid escape sequence '\\D'\n",
      "<>:8: SyntaxWarning: invalid escape sequence '\\D'\n",
      "<>:9: SyntaxWarning: invalid escape sequence '\\D'\n",
      "C:\\Users\\Surface Laptop\\AppData\\Local\\Temp\\ipykernel_10340\\3412031084.py:7: SyntaxWarning: invalid escape sequence '\\D'\n",
      "  file_path_stocks1 = 'D:\\DHKL_17a2\\Bài tập lab\\lab_3\\Data/stocks1.csv'  # Thay đổi thành đường dẫn chính xác của stocks1.csv\n",
      "C:\\Users\\Surface Laptop\\AppData\\Local\\Temp\\ipykernel_10340\\3412031084.py:8: SyntaxWarning: invalid escape sequence '\\D'\n",
      "  file_path_stocks2 = 'D:\\DHKL_17a2\\Bài tập lab\\lab_3\\Data/stocks2.csv'  # Thay đổi thành đường dẫn chính xác của stocks2.csv\n",
      "C:\\Users\\Surface Laptop\\AppData\\Local\\Temp\\ipykernel_10340\\3412031084.py:9: SyntaxWarning: invalid escape sequence '\\D'\n",
      "  file_path_companies = 'D:\\DHKL_17a2\\Bài tập lab\\lab_3\\Data/companies.csv'  # Thay đổi thành đường dẫn chính xác của companies.csv\n"
     ]
    },
    {
     "name": "stdout",
     "output_type": "stream",
     "text": [
      "5 ngày đầu tiên trong dữ liệu đã sắp xếp:\n",
      "                    open      high      low    close      volume\n",
      "date     symbol                                                 \n",
      "01-03-19 AAPL     174.28   175.150   172.89   174.97  25886167.0\n",
      "         AMZN    1655.13  1674.260  1651.00  1671.73   4974877.0\n",
      "         FB       162.60   163.132   161.69   162.28  11097770.0\n",
      "         GOOG    1124.90  1142.970  1124.75  1140.99   1450316.0\n",
      "         TSLA     306.94   307.130   291.90   294.79  22911375.0\n"
     ]
    },
    {
     "ename": "",
     "evalue": "",
     "output_type": "error",
     "traceback": [
      "\u001b[1;31mThe Kernel crashed while executing code in the current cell or a previous cell. \n",
      "\u001b[1;31mPlease review the code in the cell(s) to identify a possible cause of the failure. \n",
      "\u001b[1;31mClick <a href='https://aka.ms/vscodeJupyterKernelCrash'>here</a> for more info. \n",
      "\u001b[1;31mView Jupyter <a href='command:jupyter.viewOutput'>log</a> for further details."
     ]
    }
   ],
   "source": [
    "import pandas as pd\n",
    "\n",
    "\n",
    "# Đường dẫn tới các file CSV\n",
    "file_path_stocks1 = 'D:\\DHKL_17a2\\Bài tập lab\\lab_3\\Data/stocks1.csv'  # Thay đổi thành đường dẫn chính xác của stocks1.csv\n",
    "file_path_stocks2 = 'D:\\DHKL_17a2\\Bài tập lab\\lab_3\\Data/stocks2.csv'  # Thay đổi thành đường dẫn chính xác của stocks2.csv\n",
    "file_path_companies = 'D:\\DHKL_17a2\\Bài tập lab\\lab_3\\Data/companies.csv'  # Thay đổi thành đường dẫn chính xác của companies.csv\n",
    "\n",
    "try:\n",
    "    # Đọc dữ liệu từ stocks1.csv và stocks2.csv\n",
    "    stocks1 = pd.read_csv(file_path_stocks1)\n",
    "    stocks2 = pd.read_csv(file_path_stocks2)\n",
    "    companies=pd.read_csv(file_path_companies)\n",
    "    # Gộp stocks1 và stocks2 thành DataFrame mới tên là stocks\n",
    "    stocks = pd.concat([stocks1, stocks2,companies ], ignore_index=True)\n",
    "    \n",
    "    # 2. Tạo MultiIndex cho DataFrame stocks bằng cách sử dụng cột 'date' và 'symbol' làm chỉ mục\n",
    "    stocks.set_index(['date', 'symbol'], inplace=True)\n",
    "    \n",
    "    # 3. Sử dụng GroupBy để tính giá trung bình (open, high, low, close) và volume trung bình cho mỗi ngày, mỗi mã chứng khoán\n",
    "    grouped = stocks.groupby(['date', 'symbol'])[['open', 'high', 'low', 'close', 'volume']].mean()\n",
    "    \n",
    "    # 4. Sắp xếp dữ liệu theo ngày và mã chứng khoán\n",
    "    sorted_grouped = grouped.sort_index()\n",
    "    \n",
    "    # 5. Hiển thị kết quả cho 5 ngày đầu tiên\n",
    "    print(\"5 ngày đầu tiên trong dữ liệu đã sắp xếp:\")\n",
    "    print(sorted_grouped.head())\n",
    "    \n",
    "except FileNotFoundError as e:\n",
    "    print(f\"Không tìm thấy file: {e.filename}\")\n",
    "except Exception as e:\n",
    "    print(f\"Có lỗi xảy ra: {e}\")\n"
   ]
  }
 ],
 "metadata": {
  "kernelspec": {
   "display_name": "Python 3",
   "language": "python",
   "name": "python3"
  },
  "language_info": {
   "codemirror_mode": {
    "name": "ipython",
    "version": 3
   },
   "file_extension": ".py",
   "mimetype": "text/x-python",
   "name": "python",
   "nbconvert_exporter": "python",
   "pygments_lexer": "ipython3",
   "version": "3.13.1"
  }
 },
 "nbformat": 4,
 "nbformat_minor": 2
}
