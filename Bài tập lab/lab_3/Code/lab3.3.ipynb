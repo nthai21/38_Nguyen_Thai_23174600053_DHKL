{
 "cells": [
  {
   "cell_type": "code",
   "execution_count": 2,
   "metadata": {},
   "outputs": [
    {
     "name": "stdout",
     "output_type": "stream",
     "text": [
      "DataFrame stocks sau khi gộp:\n",
      "       date symbol     open     high      low    close   volume\n",
      "0  01-03-19   AMZN  1655.13  1674.26  1651.00  1671.73  4974877\n",
      "1  04-03-19   AMZN  1685.00  1709.43  1674.36  1696.17  6167358\n",
      "2  05-03-19   AMZN  1702.95  1707.80  1689.01  1692.43  3681522\n",
      "3  06-03-19   AMZN  1695.97      NaN      NaN  1668.95  3996001\n",
      "4  07-03-19   AMZN  1667.37  1669.75  1620.51  1625.95  4957017\n",
      "\n",
      "Giá trung bình (open, high, low, close) cho mỗi ngày:\n",
      "       date     open       high       low    close\n",
      "0  01-03-19  684.770  692.52840  680.4460  688.952\n",
      "1  04-03-19  693.940  702.39200  685.1260  694.510\n",
      "2  05-03-19  695.664  584.92000  575.0500  695.558\n",
      "3  06-03-19  696.502  449.53395  443.7725  690.016\n",
      "4  07-03-19  689.460  691.47800  673.8600  677.494\n"
     ]
    },
    {
     "name": "stderr",
     "output_type": "stream",
     "text": [
      "<>:4: SyntaxWarning: invalid escape sequence '\\D'\n",
      "<>:5: SyntaxWarning: invalid escape sequence '\\D'\n",
      "<>:4: SyntaxWarning: invalid escape sequence '\\D'\n",
      "<>:5: SyntaxWarning: invalid escape sequence '\\D'\n",
      "C:\\Users\\Surface Laptop\\AppData\\Local\\Temp\\ipykernel_1048\\390255085.py:4: SyntaxWarning: invalid escape sequence '\\D'\n",
      "  file_path1 = 'D:\\DHKL_17a2\\Bài tập lab\\lab_3\\Data/stocks1.csv'  # Thay đổi thành đường dẫn chính xác của stocks1.csv\n",
      "C:\\Users\\Surface Laptop\\AppData\\Local\\Temp\\ipykernel_1048\\390255085.py:5: SyntaxWarning: invalid escape sequence '\\D'\n",
      "  file_path2 = 'D:\\DHKL_17a2\\Bài tập lab\\lab_3\\Data/stocks2.csv'  # Thay đổi thành đường dẫn chính xác của stocks2.csv\n"
     ]
    },
    {
     "ename": "",
     "evalue": "",
     "output_type": "error",
     "traceback": [
      "\u001b[1;31mThe Kernel crashed while executing code in the current cell or a previous cell. \n",
      "\u001b[1;31mPlease review the code in the cell(s) to identify a possible cause of the failure. \n",
      "\u001b[1;31mClick <a href='https://aka.ms/vscodeJupyterKernelCrash'>here</a> for more info. \n",
      "\u001b[1;31mView Jupyter <a href='command:jupyter.viewOutput'>log</a> for further details."
     ]
    }
   ],
   "source": [
    "import pandas as pd\n",
    "\n",
    "# Đường dẫn tới các file CSV\n",
    "file_path1 = 'D:\\DHKL_17a2\\Bài tập lab\\lab_3\\Data/stocks1.csv'  # Thay đổi thành đường dẫn chính xác của stocks1.csv\n",
    "file_path2 = 'D:\\DHKL_17a2\\Bài tập lab\\lab_3\\Data/stocks2.csv'  # Thay đổi thành đường dẫn chính xác của stocks2.csv\n",
    "\n",
    "# 1. Đọc các file CSV vào DataFrame\n",
    "try:\n",
    "    stocks1 = pd.read_csv(file_path1)\n",
    "    stocks2 = pd.read_csv(file_path2)\n",
    "    \n",
    "    # 2. Gộp stocks1 và stocks2 thành DataFrame mới tên là stocks\n",
    "    stocks = pd.concat([stocks1, stocks2], ignore_index=True)\n",
    "    print(\"DataFrame stocks sau khi gộp:\")\n",
    "    print(stocks.head())  # Hiển thị 5 dòng đầu tiên của stocks\n",
    "    \n",
    "    # 3. Tính giá trung bình (open, high, low, close) cho mỗi ngày\n",
    "    daily_avg = stocks.groupby('date')[['open', 'high', 'low', 'close']].mean().reset_index()\n",
    "    \n",
    "    # 4. Hiển thị 5 dòng đầu tiên của kết quả\n",
    "    print(\"\\nGiá trung bình (open, high, low, close) cho mỗi ngày:\")\n",
    "    print(daily_avg.head())\n",
    "    \n",
    "except FileNotFoundError as e:\n",
    "    print(f\"Không tìm thấy file: {e.filename}\")\n",
    "except Exception as e:\n",
    "    print(f\"Có lỗi xảy ra: {e}\")\n"
   ]
  }
 ],
 "metadata": {
  "kernelspec": {
   "display_name": "Python 3",
   "language": "python",
   "name": "python3"
  },
  "language_info": {
   "codemirror_mode": {
    "name": "ipython",
    "version": 3
   },
   "file_extension": ".py",
   "mimetype": "text/x-python",
   "name": "python",
   "nbconvert_exporter": "python",
   "pygments_lexer": "ipython3",
   "version": "3.13.1"
  }
 },
 "nbformat": 4,
 "nbformat_minor": 2
}
