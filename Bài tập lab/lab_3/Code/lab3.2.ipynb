{
 "cells": [
  {
   "cell_type": "code",
   "execution_count": 3,
   "metadata": {},
   "outputs": [
    {
     "name": "stdout",
     "output_type": "stream",
     "text": [
      "Kiểm tra dữ liệu Null trong stocks1:\n",
      "date      0\n",
      "symbol    0\n",
      "open      0\n",
      "high      2\n",
      "low       2\n",
      "close     0\n",
      "volume    0\n",
      "dtype: int64\n",
      "\n",
      "Đã thay thế dữ liệu Null ở cột 'high' bằng giá trị trung bình: 943.5115384615384\n",
      "\n",
      "Đã thay thế dữ liệu Null ở cột 'low' bằng giá trị trung bình: 926.7753846153846\n",
      "\n",
      "Kiểm tra dữ liệu Null sau khi thay thế:\n",
      "date      0\n",
      "symbol    0\n",
      "open      0\n",
      "high      0\n",
      "low       0\n",
      "close     0\n",
      "volume    0\n",
      "dtype: int64\n",
      "\n",
      "Thông tin tổng quan về stocks1 sau xử lý:\n",
      "<class 'pandas.core.frame.DataFrame'>\n",
      "RangeIndex: 15 entries, 0 to 14\n",
      "Data columns (total 7 columns):\n",
      " #   Column  Non-Null Count  Dtype  \n",
      "---  ------  --------------  -----  \n",
      " 0   date    15 non-null     object \n",
      " 1   symbol  15 non-null     object \n",
      " 2   open    15 non-null     float64\n",
      " 3   high    15 non-null     float64\n",
      " 4   low     15 non-null     float64\n",
      " 5   close   15 non-null     float64\n",
      " 6   volume  15 non-null     int64  \n",
      "dtypes: float64(4), int64(1), object(2)\n",
      "memory usage: 972.0+ bytes\n",
      "None\n"
     ]
    },
    {
     "name": "stderr",
     "output_type": "stream",
     "text": [
      "<>:4: SyntaxWarning: invalid escape sequence '\\D'\n",
      "<>:4: SyntaxWarning: invalid escape sequence '\\D'\n",
      "C:\\Users\\Surface Laptop\\AppData\\Local\\Temp\\ipykernel_9036\\698762802.py:4: SyntaxWarning: invalid escape sequence '\\D'\n",
      "  file_path_stocks1 = 'D:\\DHKL_17a2\\Bài tập lab\\lab_3\\Data/stocks1.csv'  # Thay đổi thành đường dẫn chính xác của stocks1.csv\n",
      "C:\\Users\\Surface Laptop\\AppData\\Local\\Temp\\ipykernel_9036\\698762802.py:17: FutureWarning: A value is trying to be set on a copy of a DataFrame or Series through chained assignment using an inplace method.\n",
      "The behavior will change in pandas 3.0. This inplace method will never work because the intermediate object on which we are setting values always behaves as a copy.\n",
      "\n",
      "For example, when doing 'df[col].method(value, inplace=True)', try using 'df.method({col: value}, inplace=True)' or df[col] = df[col].method(value) instead, to perform the operation inplace on the original object.\n",
      "\n",
      "\n",
      "  stocks1['high'].fillna(high_mean, inplace=True)\n",
      "C:\\Users\\Surface Laptop\\AppData\\Local\\Temp\\ipykernel_9036\\698762802.py:23: FutureWarning: A value is trying to be set on a copy of a DataFrame or Series through chained assignment using an inplace method.\n",
      "The behavior will change in pandas 3.0. This inplace method will never work because the intermediate object on which we are setting values always behaves as a copy.\n",
      "\n",
      "For example, when doing 'df[col].method(value, inplace=True)', try using 'df.method({col: value}, inplace=True)' or df[col] = df[col].method(value) instead, to perform the operation inplace on the original object.\n",
      "\n",
      "\n",
      "  stocks1['low'].fillna(low_mean, inplace=True)\n"
     ]
    },
    {
     "ename": "",
     "evalue": "",
     "output_type": "error",
     "traceback": [
      "\u001b[1;31mThe Kernel crashed while executing code in the current cell or a previous cell. \n",
      "\u001b[1;31mPlease review the code in the cell(s) to identify a possible cause of the failure. \n",
      "\u001b[1;31mClick <a href='https://aka.ms/vscodeJupyterKernelCrash'>here</a> for more info. \n",
      "\u001b[1;31mView Jupyter <a href='command:jupyter.viewOutput'>log</a> for further details."
     ]
    }
   ],
   "source": [
    "import pandas as pd\n",
    "\n",
    "# Đọc file stocks1.csv vào DataFrame stocks1\n",
    "file_path_stocks1 = 'D:\\DHKL_17a2\\Bài tập lab\\lab_3\\Data/stocks1.csv'  # Thay đổi thành đường dẫn chính xác của stocks1.csv\n",
    "\n",
    "try:\n",
    "    # Đọc dữ liệu từ stocks1.csv\n",
    "    stocks1 = pd.read_csv(file_path_stocks1)\n",
    "    \n",
    "    # 1. Kiểm tra xem trong stocks1 có dữ liệu Null nào không\n",
    "    print(\"Kiểm tra dữ liệu Null trong stocks1:\")\n",
    "    print(stocks1.isnull().sum())  # Đếm số lượng Null trong từng cột\n",
    "    \n",
    "    # 2. Thay thế dữ liệu Null ở cột 'high' bằng giá trị trung bình của cột 'high'\n",
    "    if stocks1['high'].isnull().any():\n",
    "        high_mean = stocks1['high'].mean()\n",
    "        stocks1['high'].fillna(high_mean, inplace=True)\n",
    "        print(\"\\nĐã thay thế dữ liệu Null ở cột 'high' bằng giá trị trung bình:\", high_mean)\n",
    "    \n",
    "    # 3. Thay thế dữ liệu Null ở cột 'low' bằng giá trị trung bình của cột 'low'\n",
    "    if stocks1['low'].isnull().any():\n",
    "        low_mean = stocks1['low'].mean()\n",
    "        stocks1['low'].fillna(low_mean, inplace=True)\n",
    "        print(\"\\nĐã thay thế dữ liệu Null ở cột 'low' bằng giá trị trung bình:\", low_mean)\n",
    "    \n",
    "    # 4. Hiển thị thông tin tổng quan để xác nhận không còn dữ liệu Null\n",
    "    print(\"\\nKiểm tra dữ liệu Null sau khi thay thế:\")\n",
    "    print(stocks1.isnull().sum())\n",
    "    \n",
    "    print(\"\\nThông tin tổng quan về stocks1 sau xử lý:\")\n",
    "    print(stocks1.info())\n",
    "\n",
    "except FileNotFoundError:\n",
    "    print(f\"Không tìm thấy file {file_path_stocks1}. Vui lòng kiểm tra lại đường dẫn.\")\n",
    "except Exception as e:\n",
    "    print(f\"Có lỗi xảy ra: {e}\")\n"
   ]
  }
 ],
 "metadata": {
  "kernelspec": {
   "display_name": "Python 3",
   "language": "python",
   "name": "python3"
  },
  "language_info": {
   "codemirror_mode": {
    "name": "ipython",
    "version": 3
   },
   "file_extension": ".py",
   "mimetype": "text/x-python",
   "name": "python",
   "nbconvert_exporter": "python",
   "pygments_lexer": "ipython3",
   "version": "3.13.1"
  }
 },
 "nbformat": 4,
 "nbformat_minor": 2
}
