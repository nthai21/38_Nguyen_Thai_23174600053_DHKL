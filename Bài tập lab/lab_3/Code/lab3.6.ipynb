{
 "cells": [
  {
   "cell_type": "code",
   "execution_count": null,
   "metadata": {},
   "outputs": [
    {
     "name": "stdout",
     "output_type": "stream",
     "text": [
      "Có lỗi xảy ra: 'total_volume'\n"
     ]
    },
    {
     "name": "stderr",
     "output_type": "stream",
     "text": [
      "<>:4: SyntaxWarning: invalid escape sequence '\\D'\n",
      "<>:5: SyntaxWarning: invalid escape sequence '\\D'\n",
      "<>:6: SyntaxWarning: invalid escape sequence '\\D'\n",
      "<>:4: SyntaxWarning: invalid escape sequence '\\D'\n",
      "<>:5: SyntaxWarning: invalid escape sequence '\\D'\n",
      "<>:6: SyntaxWarning: invalid escape sequence '\\D'\n",
      "C:\\Users\\Surface Laptop\\AppData\\Local\\Temp\\ipykernel_3708\\2880839877.py:4: SyntaxWarning: invalid escape sequence '\\D'\n",
      "  file_path_stocks1 = 'D:\\DHKL_17a2\\Bài tập lab\\lab_3\\Data/stocks1.csv'  # Thay đổi thành đường dẫn chính xác của stocks1.csv\n",
      "C:\\Users\\Surface Laptop\\AppData\\Local\\Temp\\ipykernel_3708\\2880839877.py:5: SyntaxWarning: invalid escape sequence '\\D'\n",
      "  file_path_stocks2 = 'D:\\DHKL_17a2\\Bài tập lab\\lab_3\\Data/stocks2.csv'  # Thay đổi thành đường dẫn chính xác của stocks2.csv\n",
      "C:\\Users\\Surface Laptop\\AppData\\Local\\Temp\\ipykernel_3708\\2880839877.py:6: SyntaxWarning: invalid escape sequence '\\D'\n",
      "  file_path_companies = 'D:\\DHKL_17a2\\Bài tập lab\\lab_3\\Data/companies.csv'  # Thay đổi thành đường dẫn chính xác của companies.csv\n"
     ]
    },
    {
     "ename": "",
     "evalue": "",
     "output_type": "error",
     "traceback": [
      "\u001b[1;31mThe Kernel crashed while executing code in the current cell or a previous cell. \n",
      "\u001b[1;31mPlease review the code in the cell(s) to identify a possible cause of the failure. \n",
      "\u001b[1;31mClick <a href='https://aka.ms/vscodeJupyterKernelCrash'>here</a> for more info. \n",
      "\u001b[1;31mView Jupyter <a href='command:jupyter.viewOutput'>log</a> for further details."
     ]
    }
   ],
   "source": [
    "import pandas as pd\n",
    "\n",
    "# Đọc file stocks1.csv và stocks2.csv vào DataFrame\n",
    "file_path_stocks1 = 'D:\\DHKL_17a2\\Bài tập lab\\lab_3\\Data/stocks1.csv'  # Thay đổi thành đường dẫn chính xác của stocks1.csv\n",
    "file_path_stocks2 = 'D:\\DHKL_17a2\\Bài tập lab\\lab_3\\Data/stocks2.csv'  # Thay đổi thành đường dẫn chính xác của stocks2.csv\n",
    "file_path_companies = 'D:\\DHKL_17a2\\Bài tập lab\\lab_3\\Data/companies.csv'  # Thay đổi thành đường dẫn chính xác của companies.csv\n",
    "\n",
    "try:\n",
    "    # Đọc dữ liệu từ stocks1.csv và stocks2.csv\n",
    "    stocks1 = pd.read_csv(file_path_stocks1)\n",
    "    stocks2 = pd.read_csv(file_path_stocks2)\n",
    "    companies=pd.read_csv(file_path_companies)\n",
    "    # Gộp stocks1 và stocks2 thành DataFrame mới tên là stocks\n",
    "    stocks = pd.concat([stocks1, stocks2,companies ], ignore_index=True)\n",
    "    \n",
    "    # 1. Tạo Pivot Table với 'date' làm chỉ mục, 'symbol' làm cột và giá trị trung bình của 'close' làm giá trị\n",
    "    pivot_table = pd.pivot_table(stocks, values='close', index='date', columns='symbol', aggfunc='mean')\n",
    "    \n",
    "    # 2. Thêm một cột tính tổng volume giao dịch cho mỗi mã chứng khoán (symbol)\n",
    "    total_volume = stocks.groupby('symbol')['volume'].sum()\n",
    "    \n",
    "    # Thêm tổng volume vào Pivot Table (lặp qua các cột symbols)\n",
    "    pivot_table['total_volume'] = total_volume\n",
    "    \n",
    "    # 3. Sắp xếp Pivot Table dựa trên tổng volume giao dịch, từ cao xuống thấp\n",
    "    sorted_pivot_table = pivot_table.sort_values(by='total_volume', ascending=False, axis=1)\n",
    "    \n",
    "    # 4. Hiển thị kết quả cho 5 mã chứng khoán có tổng volume giao dịch cao nhất\n",
    "    print(\"5 mã chứng khoán có tổng volume giao dịch cao nhất:\")\n",
    "    print(sorted_pivot_table.iloc[:, :5])  # Chọn 5 cột đầu tiên có tổng volume cao nhất\n",
    "\n",
    "except FileNotFoundError:\n",
    "    print(f\"Không tìm thấy file {file_path_stocks1} hoặc {file_path_stocks2}. Vui lòng kiểm tra lại đường dẫn.\")\n",
    "except Exception as e:\n",
    "    print(f\"Có lỗi xảy ra: {e}\")\n"
   ]
  }
 ],
 "metadata": {
  "kernelspec": {
   "display_name": "Python 3",
   "language": "python",
   "name": "python3"
  },
  "language_info": {
   "codemirror_mode": {
    "name": "ipython",
    "version": 3
   },
   "file_extension": ".py",
   "mimetype": "text/x-python",
   "name": "python",
   "nbconvert_exporter": "python",
   "pygments_lexer": "ipython3",
   "version": "3.13.1"
  }
 },
 "nbformat": 4,
 "nbformat_minor": 2
}
