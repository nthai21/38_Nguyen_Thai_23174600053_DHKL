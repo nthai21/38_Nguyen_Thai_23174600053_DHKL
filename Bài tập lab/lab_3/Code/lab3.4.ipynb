{
 "cells": [
  {
   "cell_type": "code",
   "execution_count": 1,
   "metadata": {},
   "outputs": [
    {
     "name": "stderr",
     "output_type": "stream",
     "text": [
      "<>:4: SyntaxWarning: invalid escape sequence '\\D'\n",
      "<>:5: SyntaxWarning: invalid escape sequence '\\D'\n",
      "<>:6: SyntaxWarning: invalid escape sequence '\\D'\n",
      "<>:4: SyntaxWarning: invalid escape sequence '\\D'\n",
      "<>:5: SyntaxWarning: invalid escape sequence '\\D'\n",
      "<>:6: SyntaxWarning: invalid escape sequence '\\D'\n",
      "C:\\Users\\Surface Laptop\\AppData\\Local\\Temp\\ipykernel_13460\\3714152772.py:4: SyntaxWarning: invalid escape sequence '\\D'\n",
      "  file_path_stocks1 = 'D:\\DHKL_17a2\\Bài tập lab\\lab_3\\Data/stocks1.csv'  # Thay đổi thành đường dẫn chính xác của stocks1.csv\n",
      "C:\\Users\\Surface Laptop\\AppData\\Local\\Temp\\ipykernel_13460\\3714152772.py:5: SyntaxWarning: invalid escape sequence '\\D'\n",
      "  file_path_stocks2 = 'D:\\DHKL_17a2\\Bài tập lab\\lab_3\\Data/stocks2.csv'  # Thay đổi thành đường dẫn chính xác của stocks2.csv\n",
      "C:\\Users\\Surface Laptop\\AppData\\Local\\Temp\\ipykernel_13460\\3714152772.py:6: SyntaxWarning: invalid escape sequence '\\D'\n",
      "  file_path_companies = 'D:\\DHKL_17a2\\Bài tập lab\\lab_3\\Data/companies.csv'  # Thay đổi thành đường dẫn chính xác của companies.csv\n"
     ]
    },
    {
     "name": "stdout",
     "output_type": "stream",
     "text": [
      "5 dòng đầu tiên của DataFrame companies:\n",
      "   name  employees headquarters_city headquarters_state\n",
      "0  AMZN     613300           Seattle                 WA\n",
      "1  GOOG      98771     Mountain View                 CA\n",
      "2  AAPL     132000         Cupertino                 CA\n",
      "3    FB      48268        Menlo Park                 CA\n",
      "4  TSLA      48016         Palo Alto                 CA\n",
      "Có lỗi xảy ra: 'symbol'\n"
     ]
    },
    {
     "ename": "",
     "evalue": "",
     "output_type": "error",
     "traceback": [
      "\u001b[1;31mThe Kernel crashed while executing code in the current cell or a previous cell. \n",
      "\u001b[1;31mPlease review the code in the cell(s) to identify a possible cause of the failure. \n",
      "\u001b[1;31mClick <a href='https://aka.ms/vscodeJupyterKernelCrash'>here</a> for more info. \n",
      "\u001b[1;31mView Jupyter <a href='command:jupyter.viewOutput'>log</a> for further details."
     ]
    }
   ],
   "source": [
    "import pandas as pd\n",
    "\n",
    "# Đường dẫn tới các file CSV\n",
    "file_path_stocks1 = 'D:\\DHKL_17a2\\Bài tập lab\\lab_3\\Data/stocks1.csv'  # Thay đổi thành đường dẫn chính xác của stocks1.csv\n",
    "file_path_stocks2 = 'D:\\DHKL_17a2\\Bài tập lab\\lab_3\\Data/stocks2.csv'  # Thay đổi thành đường dẫn chính xác của stocks2.csv\n",
    "file_path_companies = 'D:\\DHKL_17a2\\Bài tập lab\\lab_3\\Data/companies.csv'  # Thay đổi thành đường dẫn chính xác của companies.csv\n",
    "\n",
    "# 1. Đọc các file CSV vào DataFrame\n",
    "try:\n",
    "    # Đọc dữ liệu từ stocks1.csv và stocks2.csv\n",
    "    stocks1 = pd.read_csv(file_path_stocks1)\n",
    "    stocks2 = pd.read_csv(file_path_stocks2)\n",
    "    \n",
    "    # Gộp stocks1 và stocks2 thành DataFrame mới tên là stocks\n",
    "    stocks = pd.concat([stocks1, stocks2], ignore_index=True)\n",
    "    \n",
    "    # Đọc dữ liệu từ companies.csv vào DataFrame companies\n",
    "    companies = pd.read_csv(file_path_companies)\n",
    "    \n",
    "    # 2. Hiển thị 5 dòng đầu tiên của companies\n",
    "    print(\"5 dòng đầu tiên của DataFrame companies:\")\n",
    "    print(companies.head())\n",
    "    \n",
    "    # 3. Kết hợp stocks và companies dựa trên cột chung là 'symbol'\n",
    "    merged_data = pd.merge(stocks, companies, on='symbol', how='inner')\n",
    "    \n",
    "    # 4. Tính giá đóng cửa (close) trung bình cho mỗi công ty\n",
    "    avg_close_per_company = merged_data.groupby('name')['close'].mean().reset_index()\n",
    "    \n",
    "    # 5. Hiển thị kết quả cho 5 công ty đầu tiên\n",
    "    print(\"\\nGiá đóng cửa trung bình cho mỗi công ty:\")\n",
    "    print(avg_close_per_company.head())\n",
    "    \n",
    "except FileNotFoundError as e:\n",
    "    print(f\"Không tìm thấy file: {e.filename}\")\n",
    "except Exception as e:\n",
    "    print(f\"Có lỗi xảy ra: {e}\")\n"
   ]
  }
 ],
 "metadata": {
  "kernelspec": {
   "display_name": "Python 3",
   "language": "python",
   "name": "python3"
  },
  "language_info": {
   "codemirror_mode": {
    "name": "ipython",
    "version": 3
   },
   "file_extension": ".py",
   "mimetype": "text/x-python",
   "name": "python",
   "nbconvert_exporter": "python",
   "pygments_lexer": "ipython3",
   "version": "3.13.1"
  }
 },
 "nbformat": 4,
 "nbformat_minor": 2
}
