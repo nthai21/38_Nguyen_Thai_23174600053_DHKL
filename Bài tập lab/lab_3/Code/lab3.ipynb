{
 "cells": [
  {
   "cell_type": "markdown",
   "metadata": {},
   "source": [
    "Phần 1\n"
   ]
  },
  {
   "cell_type": "code",
   "execution_count": 2,
   "metadata": {},
   "outputs": [
    {
     "name": "stdout",
     "output_type": "stream",
     "text": [
      "Thông tin dữ liệu:\n",
      "<class 'pandas.core.frame.DataFrame'>\n",
      "RangeIndex: 15 entries, 0 to 14\n",
      "Data columns (total 7 columns):\n",
      " #   Column  Non-Null Count  Dtype  \n",
      "---  ------  --------------  -----  \n",
      " 0   date    15 non-null     object \n",
      " 1   symbol  15 non-null     object \n",
      " 2   open    15 non-null     float64\n",
      " 3   high    13 non-null     float64\n",
      " 4   low     13 non-null     float64\n",
      " 5   close   15 non-null     float64\n",
      " 6   volume  15 non-null     int64  \n",
      "dtypes: float64(4), int64(1), object(2)\n",
      "memory usage: 972.0+ bytes\n",
      "None\n",
      "\n",
      "Một vài dòng dữ liệu đầu tiên:\n",
      "       date symbol     open     high      low    close   volume\n",
      "0  01-03-19   AMZN  1655.13  1674.26  1651.00  1671.73  4974877\n",
      "1  04-03-19   AMZN  1685.00  1709.43  1674.36  1696.17  6167358\n",
      "2  05-03-19   AMZN  1702.95  1707.80  1689.01  1692.43  3681522\n",
      "3  06-03-19   AMZN  1695.97      NaN      NaN  1668.95  3996001\n",
      "4  07-03-19   AMZN  1667.37  1669.75  1620.51  1625.95  4957017\n"
     ]
    },
    {
     "name": "stderr",
     "output_type": "stream",
     "text": [
      "<>:5: SyntaxWarning: invalid escape sequence '\\D'\n",
      "<>:5: SyntaxWarning: invalid escape sequence '\\D'\n",
      "C:\\Users\\Surface Laptop\\AppData\\Local\\Temp\\ipykernel_3244\\688592334.py:5: SyntaxWarning: invalid escape sequence '\\D'\n",
      "  file_name = \"D:\\DHKL_17a2\\Bài tập lab\\lab_3\\Data/stocks1.csv\"\n"
     ]
    }
   ],
   "source": [
    "import pandas as pd\n",
    "import os\n",
    "\n",
    "# Đường dẫn tới thư mục chứa file CSV\n",
    "file_name = \"D:\\DHKL_17a2\\Bài tập lab\\lab_3\\Data/stocks1.csv\"\n",
    "file_path = os.path.join( file_name)\n",
    "\n",
    "try:\n",
    "    # Đọc dữ liệu từ file CSV\n",
    "    stocks_data = pd.read_csv(file_path)\n",
    "\n",
    "    # Hiển thị thông tin cơ bản về dữ liệu\n",
    "    print(\"Thông tin dữ liệu:\")\n",
    "    print(stocks_data.info())\n",
    "\n",
    "    # Hiển thị một vài dòng dữ liệu đầu tiên\n",
    "    print(\"\\nMột vài dòng dữ liệu đầu tiên:\")\n",
    "    print(stocks_data.head())\n",
    "\n",
    "except FileNotFoundError:\n",
    "    print(f\"File {file_path} không tồn tại. Hãy kiểm tra lại thư mục và tên file.\")\n",
    "except Exception as e:\n",
    "    print(f\"Lỗi xảy ra khi xử lý file {file_path}: {e}\")\n"
   ]
  },
  {
   "cell_type": "markdown",
   "metadata": {},
   "source": [
    "Phần 2 \n"
   ]
  },
  {
   "cell_type": "code",
   "execution_count": 4,
   "metadata": {},
   "outputs": [
    {
     "name": "stdout",
     "output_type": "stream",
     "text": [
      "Dữ liệu giao dịch chứng khoán:\n",
      "       date symbol    open     high     low   close    volume\n",
      "0  01-03-19     FB  162.60  163.132  161.69  162.28  11097770\n",
      "1  04-03-19     FB  163.90  167.500  163.83  167.37  18894689\n",
      "2  05-03-19     FB  167.37  171.880  166.55  171.26  28187890\n",
      "3  06-03-19     FB  172.90  173.570  171.27  172.51  21531723\n",
      "4  07-03-19     FB  171.50  171.740  167.61  169.13  18306504\n"
     ]
    },
    {
     "name": "stderr",
     "output_type": "stream",
     "text": [
      "<>:3: SyntaxWarning: invalid escape sequence '\\D'\n",
      "<>:3: SyntaxWarning: invalid escape sequence '\\D'\n",
      "C:\\Users\\Surface Laptop\\AppData\\Local\\Temp\\ipykernel_3244\\3799745315.py:3: SyntaxWarning: invalid escape sequence '\\D'\n",
      "  file_path = 'D:\\DHKL_17a2\\Bài tập lab\\lab_3\\Data/stocks2.csv'  # Thay đổi thành đường dẫn chính xác của file bạn\n"
     ]
    }
   ],
   "source": [
    "import pandas as pd\n",
    "# Đường dẫn tới file CSV\n",
    "file_path = 'D:\\DHKL_17a2\\Bài tập lab\\lab_3\\Data/stocks2.csv'  # Thay đổi thành đường dẫn chính xác của file bạn\n",
    "\n",
    "# Đọc tệp CSV\n",
    "try:\n",
    "    data = pd.read_csv(file_path)\n",
    "    # Hiển thị các dòng đầu tiên của dữ liệu\n",
    "    print(\"Dữ liệu giao dịch chứng khoán:\")\n",
    "    print(data.head())\n",
    "except FileNotFoundError:\n",
    "    print(f\"Không tìm thấy file {file_path}. Vui lòng kiểm tra lại đường dẫn.\")\n",
    "except Exception as e:\n",
    "    print(f\"Có lỗi xảy ra: {e}\")"
   ]
  },
  {
   "cell_type": "markdown",
   "metadata": {},
   "source": [
    "Phần 3\n"
   ]
  },
  {
   "cell_type": "code",
   "execution_count": 5,
   "metadata": {},
   "outputs": [
    {
     "name": "stdout",
     "output_type": "stream",
     "text": [
      "Dữ liệu về các công ty:\n",
      "   name  employees headquarters_city headquarters_state\n",
      "0  AMZN     613300           Seattle                 WA\n",
      "1  GOOG      98771     Mountain View                 CA\n",
      "2  AAPL     132000         Cupertino                 CA\n",
      "3    FB      48268        Menlo Park                 CA\n",
      "4  TSLA      48016         Palo Alto                 CA\n"
     ]
    },
    {
     "name": "stderr",
     "output_type": "stream",
     "text": [
      "<>:4: SyntaxWarning: invalid escape sequence '\\D'\n",
      "<>:4: SyntaxWarning: invalid escape sequence '\\D'\n",
      "C:\\Users\\Surface Laptop\\AppData\\Local\\Temp\\ipykernel_3244\\1662577958.py:4: SyntaxWarning: invalid escape sequence '\\D'\n",
      "  file_path = 'D:\\DHKL_17a2\\Bài tập lab\\lab_3\\Data/companies.csv'  # Thay đổi thành đường dẫn chính xác của file bạn\n"
     ]
    }
   ],
   "source": [
    "import pandas as pd\n",
    "\n",
    "# Đường dẫn tới file CSV\n",
    "file_path = 'D:\\DHKL_17a2\\Bài tập lab\\lab_3\\Data/companies.csv'  # Thay đổi thành đường dẫn chính xác của file bạn\n",
    "\n",
    "# Đọc tệp CSV\n",
    "try:\n",
    "    companies_data = pd.read_csv(file_path)\n",
    "    # Hiển thị các dòng đầu tiên của dữ liệu\n",
    "    print(\"Dữ liệu về các công ty:\")\n",
    "    print(companies_data.head())\n",
    "except FileNotFoundError:\n",
    "    print(f\"Không tìm thấy file {file_path}. Vui lòng kiểm tra lại đường dẫn.\")\n",
    "except Exception as e:\n",
    "    print(f\"Có lỗi xảy ra: {e}\")"
   ]
  }
 ],
 "metadata": {
  "kernelspec": {
   "display_name": "Python 3",
   "language": "python",
   "name": "python3"
  },
  "language_info": {
   "codemirror_mode": {
    "name": "ipython",
    "version": 3
   },
   "file_extension": ".py",
   "mimetype": "text/x-python",
   "name": "python",
   "nbconvert_exporter": "python",
   "pygments_lexer": "ipython3",
   "version": "3.13.1"
  }
 },
 "nbformat": 4,
 "nbformat_minor": 2
}
