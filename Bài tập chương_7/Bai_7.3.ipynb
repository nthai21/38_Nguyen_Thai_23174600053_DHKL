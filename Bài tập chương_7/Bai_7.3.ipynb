{
 "cells": [
  {
   "cell_type": "code",
   "execution_count": 2,
   "metadata": {},
   "outputs": [],
   "source": [
    "import tkinter as tk\n",
    "\n",
    "window = tk.Tk()\n",
    "\n",
    "window.title(\"Thay đổi kiểu phông chữ nhãn\")\n",
    "\n",
    "window.geometry(\"500x350\")  \n",
    "\n",
    "label = tk.Label(window, \n",
    "                 text=\"Phông chữ tùy chỉnh\", \n",
    "                 font=(\"Times New Roman\", 18, \"bold\"))\n",
    "label.pack(pady=20) \n",
    "\n",
    "\n",
    "window.mainloop()"
   ]
  }
 ],
 "metadata": {
  "kernelspec": {
   "display_name": "Python 3",
   "language": "python",
   "name": "python3"
  },
  "language_info": {
   "codemirror_mode": {
    "name": "ipython",
    "version": 3
   },
   "file_extension": ".py",
   "mimetype": "text/x-python",
   "name": "python",
   "nbconvert_exporter": "python",
   "pygments_lexer": "ipython3",
   "version": "3.13.1"
  }
 },
 "nbformat": 4,
 "nbformat_minor": 2
}
