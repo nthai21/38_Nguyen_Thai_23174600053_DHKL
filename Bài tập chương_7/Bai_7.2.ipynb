{
 "cells": [
  {
   "cell_type": "code",
   "execution_count": 2,
   "metadata": {},
   "outputs": [],
   "source": [
    "import tkinter as tk\n",
    "\n",
    "window = tk.Tk()\n",
    "\n",
    "window.title(\"Cửa sổ Tkinter với Nhãn\")\n",
    "\n",
    "window.geometry(\"400x300\") \n",
    "\n",
    "\n",
    "label = tk.Label(window, text=\"Chào mừng đến với thế giới của n_thai\", font=(\"Arial\", 14))\n",
    "label.pack(pady=20)  \n",
    "\n",
    "window.mainloop()\n"
   ]
  }
 ],
 "metadata": {
  "kernelspec": {
   "display_name": "Python 3",
   "language": "python",
   "name": "python3"
  },
  "language_info": {
   "codemirror_mode": {
    "name": "ipython",
    "version": 3
   },
   "file_extension": ".py",
   "mimetype": "text/x-python",
   "name": "python",
   "nbconvert_exporter": "python",
   "pygments_lexer": "ipython3",
   "version": "3.13.1"
  }
 },
 "nbformat": 4,
 "nbformat_minor": 2
}
