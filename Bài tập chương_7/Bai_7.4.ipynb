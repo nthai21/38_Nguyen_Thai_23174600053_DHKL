{
 "cells": [
  {
   "cell_type": "code",
   "execution_count": 1,
   "metadata": {},
   "outputs": [
    {
     "name": "stdout",
     "output_type": "stream",
     "text": [
      "Tên sinh viên: Nguyễn Nguyên Thái\n",
      "ID sinh viên: 23174600053\n",
      "Mật khẩu: 2182005\n"
     ]
    }
   ],
   "source": [
    "import tkinter as tk\n",
    "\n",
    "def submit_action():\n",
    "    \n",
    "    student_name = name_entry.get()\n",
    "    student_id = id_entry.get()\n",
    "    password = password_entry.get()\n",
    "\n",
    "    print(\"Tên sinh viên:\", student_name)\n",
    "    print(\"ID sinh viên:\", student_id)\n",
    "    print(\"Mật khẩu:\", password)\n",
    "\n",
    "window = tk.Tk()\n",
    "window.title(\"Thông tin sinh viên\")\n",
    "window.geometry(\"400x300\")\n",
    "\n",
    "# Nhãn và hộp nhập liệu cho tên sinh viên\n",
    "name_label = tk.Label(window, text=\"Tên sinh viên:\", font=(\"Arial\", 12))\n",
    "name_label.pack(pady=5)\n",
    "name_entry = tk.Entry(window, font=(\"Arial\", 12), width=30)\n",
    "name_entry.pack(pady=5)\n",
    "\n",
    "# Nhãn và hộp nhập liệu cho ID sinh viên\n",
    "id_label = tk.Label(window, text=\"ID sinh viên:\", font=(\"Arial\", 12))\n",
    "id_label.pack(pady=5)\n",
    "id_entry = tk.Entry(window, font=(\"Arial\", 12), width=30)\n",
    "id_entry.pack(pady=5)\n",
    "\n",
    "# Nhãn và hộp nhập liệu cho mật khẩu\n",
    "password_label = tk.Label(window, text=\"Mật khẩu:\", font=(\"Arial\", 12))\n",
    "password_label.pack(pady=5)\n",
    "password_entry = tk.Entry(window, font=(\"Arial\", 12), width=30, show=\"*\")\n",
    "password_entry.pack(pady=5)\n",
    "\n",
    "# Nút gửi\n",
    "submit_button = tk.Button(window, text=\"Gửi\", font=(\"Arial\", 12), command=submit_action)\n",
    "submit_button.pack(pady=20)\n",
    "\n",
    "# Vòng lặp chính để hiển thị giao diện\n",
    "window.mainloop()"
   ]
  }
 ],
 "metadata": {
  "kernelspec": {
   "display_name": "Python 3",
   "language": "python",
   "name": "python3"
  },
  "language_info": {
   "codemirror_mode": {
    "name": "ipython",
    "version": 3
   },
   "file_extension": ".py",
   "mimetype": "text/x-python",
   "name": "python",
   "nbconvert_exporter": "python",
   "pygments_lexer": "ipython3",
   "version": "3.13.1"
  }
 },
 "nbformat": 4,
 "nbformat_minor": 2
}
