{
 "cells": [
  {
   "cell_type": "code",
   "execution_count": 1,
   "metadata": {},
   "outputs": [],
   "source": [
    "import pandas as pd\n",
    "import numpy as np"
   ]
  },
  {
   "cell_type": "code",
   "execution_count": 2,
   "metadata": {},
   "outputs": [],
   "source": [
    "ser=pd.Series(np.random.random(20))"
   ]
  },
  {
   "cell_type": "code",
   "execution_count": 3,
   "metadata": {},
   "outputs": [
    {
     "name": "stdout",
     "output_type": "stream",
     "text": [
      "\n",
      "Chuỗi ser sau khi thay thế bằng tên phân vị:\n",
      "0      Q7\n",
      "1      Q3\n",
      "2      Q1\n",
      "3      Q7\n",
      "4      Q3\n",
      "5      Q8\n",
      "6      Q4\n",
      "7      Q2\n",
      "8      Q5\n",
      "9      Q6\n",
      "10     Q2\n",
      "11     Q8\n",
      "12     Q1\n",
      "13     Q4\n",
      "14     Q9\n",
      "15     Q9\n",
      "16    Q10\n",
      "17    Q10\n",
      "18     Q6\n",
      "19     Q5\n",
      "dtype: category\n",
      "Categories (10, object): ['Q1' < 'Q2' < 'Q3' < 'Q4' ... 'Q7' < 'Q8' < 'Q9' < 'Q10']\n"
     ]
    }
   ],
   "source": [
    "ser_quantiles = pd.qcut(ser, q=10, labels=[f\"Q{i+1}\" for i in range(10)])\n",
    "\n",
    "print(\"\\nChuỗi ser sau khi thay thế bằng tên phân vị:\")\n",
    "print(ser_quantiles)"
   ]
  }
 ],
 "metadata": {
  "kernelspec": {
   "display_name": "Python 3",
   "language": "python",
   "name": "python3"
  },
  "language_info": {
   "codemirror_mode": {
    "name": "ipython",
    "version": 3
   },
   "file_extension": ".py",
   "mimetype": "text/x-python",
   "name": "python",
   "nbconvert_exporter": "python",
   "pygments_lexer": "ipython3",
   "version": "3.13.1"
  }
 },
 "nbformat": 4,
 "nbformat_minor": 2
}
