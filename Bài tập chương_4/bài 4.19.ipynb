{
 "cells": [
  {
   "cell_type": "code",
   "execution_count": 3,
   "metadata": {},
   "outputs": [],
   "source": [
    "import pandas as pd\n",
    "import numpy as np\n"
   ]
  },
  {
   "cell_type": "code",
   "execution_count": 4,
   "metadata": {},
   "outputs": [
    {
     "name": "stdout",
     "output_type": "stream",
     "text": [
      "[1.0, 2.0, 3.0, 4.0, 5.0, 6.0, 7.0, 8.0, 9.0, 10.0]\n",
      "['carrot', 'apple', 'banana', 'carrot', 'banana', 'banana', 'carrot', 'carrot', 'carrot', 'carrot']\n"
     ]
    }
   ],
   "source": [
    "fruit=pd.Series(np.random.choice(['apple','banana','carrot'],10))\n",
    "weight=pd.Series(np.linspace(1,10,10))\n",
    "print(weight.tolist())\n",
    "print(fruit.tolist())\n",
    "#>[1.0,2.0,3.0,4.0,5.0,6.0,7.0,8.0,9.0,10.0]\n",
    "#>['banana','carrot','apple','carrot','carrot','apple','banana,'carrot','apple','carrot]"
   ]
  },
  {
   "cell_type": "code",
   "execution_count": 5,
   "metadata": {},
   "outputs": [
    {
     "name": "stdout",
     "output_type": "stream",
     "text": [
      "Danh sách trọng lượng:  [1.0, 2.0, 3.0, 4.0, 5.0, 6.0, 7.0, 8.0, 9.0, 10.0]\n",
      "Danh sách loại quả:  ['carrot', 'apple', 'banana', 'carrot', 'banana', 'banana', 'carrot', 'carrot', 'carrot', 'carrot']\n",
      "\n",
      "Khối lượng trung bình của từng loại quả:\n",
      "fruit\n",
      "apple     2.000000\n",
      "banana    4.666667\n",
      "carrot    6.500000\n",
      "Name: weight, dtype: float64\n"
     ]
    }
   ],
   "source": [
    "data = pd.DataFrame({'fruit': fruit, 'weight': weight})\n",
    "\n",
    "# Tính khối lượng trung bình của từng loại quả\n",
    "average_weight = data.groupby('fruit')['weight'].mean()\n",
    "\n",
    "print(\"Danh sách trọng lượng: \", weight.tolist())\n",
    "print(\"Danh sách loại quả: \", fruit.tolist())\n",
    "print(\"\\nKhối lượng trung bình của từng loại quả:\")\n",
    "print(average_weight)"
   ]
  }
 ],
 "metadata": {
  "kernelspec": {
   "display_name": "Python 3",
   "language": "python",
   "name": "python3"
  },
  "language_info": {
   "codemirror_mode": {
    "name": "ipython",
    "version": 3
   },
   "file_extension": ".py",
   "mimetype": "text/x-python",
   "name": "python",
   "nbconvert_exporter": "python",
   "pygments_lexer": "ipython3",
   "version": "3.13.1"
  }
 },
 "nbformat": 4,
 "nbformat_minor": 2
}
