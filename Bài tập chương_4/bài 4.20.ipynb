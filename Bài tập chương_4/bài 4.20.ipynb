{
 "cells": [
  {
   "cell_type": "code",
   "execution_count": 9,
   "metadata": {},
   "outputs": [],
   "source": [
    "import pandas as pd\n",
    "import numpy as np"
   ]
  },
  {
   "cell_type": "markdown",
   "metadata": {},
   "source": [
    "Câu 1"
   ]
  },
  {
   "cell_type": "code",
   "execution_count": null,
   "metadata": {},
   "outputs": [
    {
     "name": "stdout",
     "output_type": "stream",
     "text": [
      "Type: <class 'pandas.core.frame.DataFrame'>\n",
      "Shape: (16, 36)\n",
      "Danh sách các cột: ['Unnamed: 0', 'Team', 'Goals', 'Shots on target', 'Shots off target', 'Shooting Accuracy', '% Goals-to-shots', 'Total shots (inc. Blocked)', 'Hit Woodwork', 'Penalty goals', 'Penalties not scored', 'Headed goals', 'Passes', 'Passes completed', 'Passing Accuracy', 'Touches', 'Crosses', 'Dribbles', 'Corners Taken', 'Tackles', 'Clearances', 'Interceptions', 'Clearances off line', 'Clean Sheets', 'Blocks', 'Goals conceded', 'Saves made', 'Saves-to-shots ratio', 'Fouls Won', 'Fouls Conceded', 'Offsides', 'Yellow Cards', 'Red Cards', 'Subs on', 'Subs off', 'Players Used']\n",
      "\n",
      "Giá trị cột 'Goals':\n",
      "0      4\n",
      "1      4\n",
      "2      4\n",
      "3      5\n",
      "4      3\n",
      "5     10\n",
      "6      5\n",
      "7      6\n",
      "8      2\n",
      "9      2\n",
      "10     6\n",
      "11     1\n",
      "12     5\n",
      "13    12\n",
      "14     5\n",
      "15     2\n",
      "Name: Goals, dtype: int64\n"
     ]
    }
   ],
   "source": [
    "\n",
    "euro2012 = pd.read_csv('euro2012.csv')\n",
    "\n",
    "\n",
    "print(\"Type:\", type(euro2012))\n",
    "print(\"Shape:\", euro2012.shape)\n",
    "print(\"Danh sách các cột:\", euro2012.columns.tolist())\n",
    "\n",
    "\n",
    "if 'Goals' in euro2012.columns:\n",
    "    print(\"\\nGiá trị cột 'Goals':\")\n",
    "    print(euro2012['Goals'])\n",
    "else:\n",
    "    print(\"\\nCột 'Goals' không tồn tại trong dữ liệu.\")\n"
   ]
  },
  {
   "cell_type": "markdown",
   "metadata": {},
   "source": [
    "Câu 2"
   ]
  },
  {
   "cell_type": "code",
   "execution_count": 11,
   "metadata": {},
   "outputs": [
    {
     "name": "stdout",
     "output_type": "stream",
     "text": [
      "\n",
      "Số lượng đội bóng tham gia EURO 12: 16\n"
     ]
    }
   ],
   "source": [
    "if 'Team' in euro2012.columns:\n",
    "    unique_teams = euro2012['Team'].nunique()\n",
    "    print(\"\\nSố lượng đội bóng tham gia EURO 12:\", unique_teams)\n",
    "else:\n",
    "    print(\"\\nCột 'Team' không tồn tại trong dữ liệu.\")"
   ]
  },
  {
   "cell_type": "markdown",
   "metadata": {},
   "source": [
    "Câu 3\n"
   ]
  },
  {
   "cell_type": "code",
   "execution_count": null,
   "metadata": {},
   "outputs": [
    {
     "name": "stdout",
     "output_type": "stream",
     "text": [
      "\n",
      "Thông tin chi tiết của Euro 2012:\n",
      "<class 'pandas.core.frame.DataFrame'>\n",
      "RangeIndex: 16 entries, 0 to 15\n",
      "Data columns (total 36 columns):\n",
      " #   Column                      Non-Null Count  Dtype  \n",
      "---  ------                      --------------  -----  \n",
      " 0   Unnamed: 0                  16 non-null     int64  \n",
      " 1   Team                        16 non-null     object \n",
      " 2   Goals                       16 non-null     int64  \n",
      " 3   Shots on target             16 non-null     int64  \n",
      " 4   Shots off target            16 non-null     int64  \n",
      " 5   Shooting Accuracy           16 non-null     object \n",
      " 6   % Goals-to-shots            16 non-null     object \n",
      " 7   Total shots (inc. Blocked)  16 non-null     int64  \n",
      " 8   Hit Woodwork                16 non-null     int64  \n",
      " 9   Penalty goals               16 non-null     int64  \n",
      " 10  Penalties not scored        16 non-null     int64  \n",
      " 11  Headed goals                16 non-null     int64  \n",
      " 12  Passes                      16 non-null     int64  \n",
      " 13  Passes completed            16 non-null     int64  \n",
      " 14  Passing Accuracy            16 non-null     object \n",
      " 15  Touches                     16 non-null     int64  \n",
      " 16  Crosses                     16 non-null     int64  \n",
      " 17  Dribbles                    16 non-null     int64  \n",
      " 18  Corners Taken               16 non-null     int64  \n",
      " 19  Tackles                     16 non-null     int64  \n",
      " 20  Clearances                  16 non-null     int64  \n",
      " 21  Interceptions               16 non-null     int64  \n",
      " 22  Clearances off line         15 non-null     float64\n",
      " 23  Clean Sheets                16 non-null     int64  \n",
      " 24  Blocks                      16 non-null     int64  \n",
      " 25  Goals conceded              16 non-null     int64  \n",
      " 26  Saves made                  16 non-null     int64  \n",
      " 27  Saves-to-shots ratio        16 non-null     object \n",
      " 28  Fouls Won                   16 non-null     int64  \n",
      " 29  Fouls Conceded              16 non-null     int64  \n",
      " 30  Offsides                    16 non-null     int64  \n",
      " 31  Yellow Cards                16 non-null     int64  \n",
      " 32  Red Cards                   16 non-null     int64  \n",
      " 33  Subs on                     16 non-null     int64  \n",
      " 34  Subs off                    16 non-null     int64  \n",
      " 35  Players Used                16 non-null     int64  \n",
      "dtypes: float64(1), int64(30), object(5)\n",
      "memory usage: 4.6+ KB\n",
      "None\n",
      "\n",
      "Dữ liệu Euro 2012:\n",
      "   Unnamed: 0            Team  Goals  Shots on target  Shots off target  \\\n",
      "0           0         Croatia      4               13                12   \n",
      "1           1  Czech Republic      4               13                18   \n",
      "2           2         Denmark      4               10                10   \n",
      "3           3         England      5               11                18   \n",
      "4           4          France      3               22                24   \n",
      "\n",
      "  Shooting Accuracy % Goals-to-shots  Total shots (inc. Blocked)  \\\n",
      "0            51.90%           16.00%                          32   \n",
      "1            41.90%           12.90%                          39   \n",
      "2            50.00%           20.00%                          27   \n",
      "3            50.00%           17.20%                          40   \n",
      "4            37.90%            6.50%                          65   \n",
      "\n",
      "   Hit Woodwork  Penalty goals  ...  Saves made  Saves-to-shots ratio  \\\n",
      "0             0              0  ...          13                81.30%   \n",
      "1             0              0  ...           9                60.10%   \n",
      "2             1              0  ...          10                66.70%   \n",
      "3             0              0  ...          22                88.10%   \n",
      "4             1              0  ...           6                54.60%   \n",
      "\n",
      "   Fouls Won  Fouls Conceded Offsides  Yellow Cards  Red Cards  Subs on  \\\n",
      "0         41              62        2             9          0        9   \n",
      "1         53              73        8             7          0       11   \n",
      "2         25              38        8             4          0        7   \n",
      "3         43              45        6             5          0       11   \n",
      "4         36              51        5             6          0       11   \n",
      "\n",
      "   Subs off  Players Used  \n",
      "0         9            16  \n",
      "1        11            19  \n",
      "2         7            15  \n",
      "3        11            16  \n",
      "4        11            19  \n",
      "\n",
      "[5 rows x 36 columns]\n"
     ]
    }
   ],
   "source": [
    "print(\"\\nThông tin chi tiết của Euro 2012:\")\n",
    "print(euro2012.info()) \n",
    "print(\"\\nDữ liệu Euro 2012:\")\n",
    "print(euro2012.head())  "
   ]
  },
  {
   "cell_type": "markdown",
   "metadata": {},
   "source": [
    "Câu 4 \n"
   ]
  },
  {
   "cell_type": "code",
   "execution_count": null,
   "metadata": {},
   "outputs": [
    {
     "name": "stdout",
     "output_type": "stream",
     "text": [
      "\n",
      "Cột 'Team', 'Yellow cards', hoặc 'Red cards' không tồn tại trong dữ liệu.\n"
     ]
    }
   ],
   "source": [
    "if {'Team', 'Yellow cards', 'Red cards'}.issubset(euro2012.columns):\n",
    "    discipline = euro2012[['Team', 'Yellow cards', 'Red cards']]\n",
    "    print(\"\\nDataFrame 'discipline':\")\n",
    "    print(discipline.head())  \n",
    "else:\n",
    "    print(\"\\nCột 'Team', 'Yellow cards', hoặc 'Red cards' không tồn tại trong dữ liệu.\")"
   ]
  },
  {
   "cell_type": "markdown",
   "metadata": {},
   "source": [
    "Câu 5 \n"
   ]
  }
 ],
 "metadata": {
  "kernelspec": {
   "display_name": "Python 3",
   "language": "python",
   "name": "python3"
  },
  "language_info": {
   "codemirror_mode": {
    "name": "ipython",
    "version": 3
   },
   "file_extension": ".py",
   "mimetype": "text/x-python",
   "name": "python",
   "nbconvert_exporter": "python",
   "pygments_lexer": "ipython3",
   "version": "3.13.1"
  }
 },
 "nbformat": 4,
 "nbformat_minor": 2
}
