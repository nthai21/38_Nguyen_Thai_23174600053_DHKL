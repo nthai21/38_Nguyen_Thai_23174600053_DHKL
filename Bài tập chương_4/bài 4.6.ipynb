{
 "cells": [
  {
   "cell_type": "code",
   "execution_count": 1,
   "metadata": {},
   "outputs": [],
   "source": [
    "import pandas as pd\n",
    "import numpy as np\n"
   ]
  },
  {
   "cell_type": "code",
   "execution_count": 2,
   "metadata": {},
   "outputs": [],
   "source": [
    "ser=pd.Series(np.take(list('abcdefgh'),np.random.randint(8,size=30)))"
   ]
  },
  {
   "cell_type": "markdown",
   "metadata": {},
   "source": [
    "Câu 1"
   ]
  },
  {
   "cell_type": "code",
   "execution_count": null,
   "metadata": {},
   "outputs": [],
   "source": [
    "'''Tạo một danh sách gồm các ký tự 'a', 'b', 'c', 'd', 'e', 'f', 'g', 'h'.\n",
    "np.random.randint(8, size=30):\n",
    "\n",
    "Sinh ngẫu nhiên một mảng gồm 30 số nguyên, mỗi số trong khoảng từ 0 đến 7 (giá trị từ 0 đến 7 được chọn vì danh sách abcdefgh có 8 phần tử).'''"
   ]
  },
  {
   "cell_type": "markdown",
   "metadata": {},
   "source": [
    "Câu 2"
   ]
  },
  {
   "cell_type": "code",
   "execution_count": 3,
   "metadata": {},
   "outputs": [
    {
     "name": "stdout",
     "output_type": "stream",
     "text": [
      "\n",
      "Số lần xuất hiện của mỗi giá trị duy nhất:\n",
      "d    6\n",
      "e    6\n",
      "g    5\n",
      "b    4\n",
      "a    3\n",
      "f    3\n",
      "h    2\n",
      "c    1\n",
      "Name: count, dtype: int64\n"
     ]
    }
   ],
   "source": [
    "value_counts = ser.value_counts()\n",
    "\n",
    "print(\"\\nSố lần xuất hiện của mỗi giá trị duy nhất:\")\n",
    "print(value_counts)"
   ]
  }
 ],
 "metadata": {
  "kernelspec": {
   "display_name": "Python 3",
   "language": "python",
   "name": "python3"
  },
  "language_info": {
   "codemirror_mode": {
    "name": "ipython",
    "version": 3
   },
   "file_extension": ".py",
   "mimetype": "text/x-python",
   "name": "python",
   "nbconvert_exporter": "python",
   "pygments_lexer": "ipython3",
   "version": "3.13.1"
  }
 },
 "nbformat": 4,
 "nbformat_minor": 2
}
