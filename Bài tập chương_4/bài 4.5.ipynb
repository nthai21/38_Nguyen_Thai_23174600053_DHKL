{
 "cells": [
  {
   "cell_type": "code",
   "execution_count": 1,
   "metadata": {},
   "outputs": [],
   "source": [
    "import pandas as pd\n",
    "import numpy as np\n"
   ]
  },
  {
   "cell_type": "code",
   "execution_count": 2,
   "metadata": {},
   "outputs": [],
   "source": [
    "ser = pd.Series(np.random.normal(10,5,25))\n"
   ]
  },
  {
   "cell_type": "markdown",
   "metadata": {},
   "source": [
    "Câu 1\n"
   ]
  },
  {
   "cell_type": "code",
   "execution_count": 3,
   "metadata": {},
   "outputs": [
    {
     "name": "stdout",
     "output_type": "stream",
     "text": [
      "\n",
      "Giá trị tối thiểu của ser:\n",
      "-0.1265072000698293\n"
     ]
    }
   ],
   "source": [
    "minimum_value = ser.min()\n",
    "print(\"\\nGiá trị tối thiểu của ser:\")\n",
    "print(minimum_value)"
   ]
  },
  {
   "cell_type": "markdown",
   "metadata": {},
   "source": [
    "Câu 2\n"
   ]
  },
  {
   "cell_type": "code",
   "execution_count": 4,
   "metadata": {},
   "outputs": [
    {
     "name": "stdout",
     "output_type": "stream",
     "text": [
      "\n",
      "Giá trị centile thứ 25 của ser:\n",
      "5.348578834464102\n"
     ]
    }
   ],
   "source": [
    "percentile_25 = ser.quantile(0.25)\n",
    "print(\"\\nGiá trị centile thứ 25 của ser:\")\n",
    "print(percentile_25)"
   ]
  },
  {
   "cell_type": "markdown",
   "metadata": {},
   "source": [
    "Câu 5\n"
   ]
  },
  {
   "cell_type": "code",
   "execution_count": 7,
   "metadata": {},
   "outputs": [
    {
     "name": "stdout",
     "output_type": "stream",
     "text": [
      "\n",
      "Giá trị tối đa của ser:\n",
      "23.26903803816563\n"
     ]
    }
   ],
   "source": [
    "maximum_value = ser.max()\n",
    "print(\"\\nGiá trị tối đa của ser:\")\n",
    "print(maximum_value)"
   ]
  },
  {
   "cell_type": "markdown",
   "metadata": {},
   "source": [
    "Câu 4\n"
   ]
  },
  {
   "cell_type": "code",
   "execution_count": 6,
   "metadata": {},
   "outputs": [
    {
     "name": "stdout",
     "output_type": "stream",
     "text": [
      "\n",
      "Giá trị centile thứ 75 của ser:\n",
      "13.103445504888704\n"
     ]
    }
   ],
   "source": [
    "percentile_75 = ser.quantile(0.75)\n",
    "print(\"\\nGiá trị centile thứ 75 của ser:\")\n",
    "print(percentile_75)"
   ]
  },
  {
   "cell_type": "markdown",
   "metadata": {},
   "source": [
    "Câu 3"
   ]
  },
  {
   "cell_type": "code",
   "execution_count": 8,
   "metadata": {},
   "outputs": [
    {
     "name": "stdout",
     "output_type": "stream",
     "text": [
      "\n",
      "Giá trị trung vị của ser:\n",
      "8.235873140726387\n"
     ]
    }
   ],
   "source": [
    "median_value = ser.median()\n",
    "print(\"\\nGiá trị trung vị của ser:\")\n",
    "print(median_value)"
   ]
  }
 ],
 "metadata": {
  "kernelspec": {
   "display_name": "Python 3",
   "language": "python",
   "name": "python3"
  },
  "language_info": {
   "codemirror_mode": {
    "name": "ipython",
    "version": 3
   },
   "file_extension": ".py",
   "mimetype": "text/x-python",
   "name": "python",
   "nbconvert_exporter": "python",
   "pygments_lexer": "ipython3",
   "version": "3.13.1"
  }
 },
 "nbformat": 4,
 "nbformat_minor": 2
}
