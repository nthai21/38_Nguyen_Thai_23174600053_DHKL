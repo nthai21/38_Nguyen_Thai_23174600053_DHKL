{
 "cells": [
  {
   "cell_type": "code",
   "execution_count": 1,
   "metadata": {},
   "outputs": [],
   "source": [
    "import numpy as np\n",
    "import pandas as pd"
   ]
  },
  {
   "cell_type": "code",
   "execution_count": 2,
   "metadata": {},
   "outputs": [],
   "source": [
    "mylist=list('abcdfghijklmnoqprstuvwxyz')\n",
    "myarr= np.arange(26)\n",
    "mydict=dict(zip(mylist,myarr))\n"
   ]
  },
  {
   "cell_type": "code",
   "execution_count": 5,
   "metadata": {},
   "outputs": [
    {
     "name": "stdout",
     "output_type": "stream",
     "text": [
      "0     a\n",
      "1     b\n",
      "2     c\n",
      "3     d\n",
      "4     f\n",
      "5     g\n",
      "6     h\n",
      "7     i\n",
      "8     j\n",
      "9     k\n",
      "10    l\n",
      "11    m\n",
      "12    n\n",
      "13    o\n",
      "14    q\n",
      "15    p\n",
      "16    r\n",
      "17    s\n",
      "18    t\n",
      "19    u\n",
      "20    v\n",
      "21    w\n",
      "22    x\n",
      "23    y\n",
      "24    z\n",
      "dtype: object\n",
      "0      0\n",
      "1      1\n",
      "2      2\n",
      "3      3\n",
      "4      4\n",
      "5      5\n",
      "6      6\n",
      "7      7\n",
      "8      8\n",
      "9      9\n",
      "10    10\n",
      "11    11\n",
      "12    12\n",
      "13    13\n",
      "14    14\n",
      "15    15\n",
      "16    16\n",
      "17    17\n",
      "18    18\n",
      "19    19\n",
      "20    20\n",
      "21    21\n",
      "22    22\n",
      "23    23\n",
      "24    24\n",
      "25    25\n",
      "dtype: int64\n"
     ]
    }
   ],
   "source": [
    "data_mylist=pd.Series(mylist)\n",
    "print(data_mylist)\n",
    "data_myarr=pd.Series(myarr)\n",
    "print(data_myarr)"
   ]
  }
 ],
 "metadata": {
  "kernelspec": {
   "display_name": "Python 3",
   "language": "python",
   "name": "python3"
  },
  "language_info": {
   "codemirror_mode": {
    "name": "ipython",
    "version": 3
   },
   "file_extension": ".py",
   "mimetype": "text/x-python",
   "name": "python",
   "nbconvert_exporter": "python",
   "pygments_lexer": "ipython3",
   "version": "3.13.1"
  }
 },
 "nbformat": 4,
 "nbformat_minor": 2
}
