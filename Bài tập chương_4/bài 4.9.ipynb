{
 "cells": [
  {
   "cell_type": "code",
   "execution_count": 9,
   "metadata": {},
   "outputs": [],
   "source": [
    "import pandas as pd\n",
    "import numpy as np\n"
   ]
  },
  {
   "cell_type": "code",
   "execution_count": 10,
   "metadata": {},
   "outputs": [],
   "source": [
    "ser=pd.Series(np.random.randint(1,10,35))"
   ]
  },
  {
   "cell_type": "markdown",
   "metadata": {},
   "source": [
    "Câu 1"
   ]
  },
  {
   "cell_type": "code",
   "execution_count": 11,
   "metadata": {},
   "outputs": [
    {
     "data": {
      "text/plain": [
       "'np.random.randint(1, 10, 7):\\nHàm np.random.randint():\\nSinh các số nguyên ngẫu nhiên trong một khoảng nhất định.\\n1: Giá trị nhỏ nhất (bao gồm).\\n10: Giá trị lớn nhất (không bao gồm, tức là 9 là giá trị lớn nhất có thể được sinh ra).\\n7: Số lượng giá trị cần sinh (tức là một mảng gồm 7 số nguyên ngẫu nhiên).'"
      ]
     },
     "execution_count": 11,
     "metadata": {},
     "output_type": "execute_result"
    }
   ],
   "source": [
    "'''np.random.randint(1, 10, 7):\n",
    "Hàm np.random.randint():\n",
    "Sinh các số nguyên ngẫu nhiên trong một khoảng nhất định.\n",
    "1: Giá trị nhỏ nhất (bao gồm).\n",
    "10: Giá trị lớn nhất (không bao gồm, tức là 9 là giá trị lớn nhất có thể được sinh ra).\n",
    "7: Số lượng giá trị cần sinh (tức là một mảng gồm 7 số nguyên ngẫu nhiên).'''"
   ]
  },
  {
   "cell_type": "markdown",
   "metadata": {},
   "source": [
    "Câu 2"
   ]
  },
  {
   "cell_type": "code",
   "execution_count": null,
   "metadata": {},
   "outputs": [
    {
     "name": "stdout",
     "output_type": "stream",
     "text": [
      "Chuỗi ser ban đầu:\n",
      "0     1\n",
      "1     3\n",
      "2     3\n",
      "3     5\n",
      "4     6\n",
      "5     1\n",
      "6     8\n",
      "7     9\n",
      "8     2\n",
      "9     3\n",
      "10    2\n",
      "11    7\n",
      "12    6\n",
      "13    3\n",
      "14    6\n",
      "15    8\n",
      "16    5\n",
      "17    7\n",
      "18    2\n",
      "19    5\n",
      "20    5\n",
      "21    9\n",
      "22    7\n",
      "23    4\n",
      "24    4\n",
      "25    7\n",
      "26    3\n",
      "27    4\n",
      "28    7\n",
      "29    5\n",
      "30    1\n",
      "31    9\n",
      "32    6\n",
      "33    3\n",
      "34    8\n",
      "dtype: int32\n",
      "\n",
      "DataFrame có 7 hàng và 5 cột:\n",
      "   0  1  2  3  4\n",
      "0  1  3  3  5  6\n",
      "1  1  8  9  2  3\n",
      "2  2  7  6  3  6\n",
      "3  8  5  7  2  5\n",
      "4  5  9  7  4  4\n",
      "5  7  3  4  7  5\n",
      "6  1  9  6  3  8\n"
     ]
    }
   ],
   "source": [
    "print(\"Chuỗi ser ban đầu:\")\n",
    "print(ser)\n",
    "\n",
    "df = ser.values.reshape(7, 5) \n",
    "df = pd.DataFrame(df)  \n",
    "print(\"\\nDataFrame có 7 hàng và 5 cột:\")\n",
    "print(df)"
   ]
  }
 ],
 "metadata": {
  "kernelspec": {
   "display_name": "Python 3",
   "language": "python",
   "name": "python3"
  },
  "language_info": {
   "codemirror_mode": {
    "name": "ipython",
    "version": 3
   },
   "file_extension": ".py",
   "mimetype": "text/x-python",
   "name": "python",
   "nbconvert_exporter": "python",
   "pygments_lexer": "ipython3",
   "version": "3.13.1"
  }
 },
 "nbformat": 4,
 "nbformat_minor": 2
}
