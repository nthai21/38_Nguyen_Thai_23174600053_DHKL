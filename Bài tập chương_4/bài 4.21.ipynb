{
 "cells": [
  {
   "cell_type": "code",
   "execution_count": 4,
   "metadata": {},
   "outputs": [],
   "source": [
    "import pandas as pd\n",
    "import numpy as np\n"
   ]
  },
  {
   "cell_type": "markdown",
   "metadata": {},
   "source": [
    "Câu 1\n"
   ]
  },
  {
   "cell_type": "code",
   "execution_count": 5,
   "metadata": {},
   "outputs": [
    {
     "name": "stdout",
     "output_type": "stream",
     "text": [
      "Kiểu dữ liệu của 'drinks': <class 'pandas.core.frame.DataFrame'>\n",
      "Kích thước (shape) của 'drinks': (193, 6)\n",
      "\n",
      "Tên các cột trong 'drinks': ['country', 'beer_servings', 'spirit_servings', 'wine_servings', 'total_litres_of_pure_alcohol', 'continent']\n",
      "\n",
      "5 dòng đầu tiên của 'drinks':\n",
      "       country  beer_servings  spirit_servings  wine_servings  \\\n",
      "0  Afghanistan              0                0              0   \n",
      "1      Albania             89              132             54   \n",
      "2      Algeria             25                0             14   \n",
      "3      Andorra            245              138            312   \n",
      "4       Angola            217               57             45   \n",
      "\n",
      "   total_litres_of_pure_alcohol continent  \n",
      "0                           0.0        AS  \n",
      "1                           4.9        EU  \n",
      "2                           0.7        AF  \n",
      "3                          12.4        EU  \n",
      "4                           5.9        AF  \n",
      "\n",
      "5 dòng cuối cùng của 'drinks':\n",
      "       country  beer_servings  spirit_servings  wine_servings  \\\n",
      "188  Venezuela            333              100              3   \n",
      "189    Vietnam            111                2              1   \n",
      "190      Yemen              6                0              0   \n",
      "191     Zambia             32               19              4   \n",
      "192   Zimbabwe             64               18              4   \n",
      "\n",
      "     total_litres_of_pure_alcohol continent  \n",
      "188                           7.7        SA  \n",
      "189                           2.0        AS  \n",
      "190                           0.1        AS  \n",
      "191                           2.5        AF  \n",
      "192                           4.7        AF  \n"
     ]
    }
   ],
   "source": [
    "\n",
    "drinks = pd.read_csv('drinks.csv', index_col=0)\n",
    "#1.Kiểu dữ liệu\n",
    "print(\"Kiểu dữ liệu của 'drinks':\", type(drinks))\n",
    "print(\"Kích thước (shape) của 'drinks':\", drinks.shape)\n",
    "\n",
    "# 2. Tên các cột (columns) của drink\n",
    "print(\"\\nTên các cột trong 'drinks':\", drinks.columns.tolist())\n",
    "\n",
    "# 3. Hiển thị 5 dòng dữ liệu đầu tiên (head) và cuối cùng (tail) của drink\n",
    "print(\"\\n5 dòng đầu tiên của 'drinks':\")\n",
    "print(drinks.head())\n",
    "\n",
    "print(\"\\n5 dòng cuối cùng của 'drinks':\")\n",
    "print(drinks.tail())"
   ]
  },
  {
   "cell_type": "markdown",
   "metadata": {},
   "source": [
    "Câu 2 "
   ]
  },
  {
   "cell_type": "code",
   "execution_count": 6,
   "metadata": {},
   "outputs": [
    {
     "name": "stdout",
     "output_type": "stream",
     "text": [
      "Số lượng bia tiêu thụ trung bình ở mỗi châu lục:\n",
      "continent\n",
      "AF     61.471698\n",
      "AS     37.045455\n",
      "EU    193.777778\n",
      "OC     89.687500\n",
      "SA    175.083333\n",
      "Name: beer_servings, dtype: float64\n"
     ]
    }
   ],
   "source": [
    "if 'continent' in drinks.columns and 'beer_servings' in drinks.columns:\n",
    "    average_beer_consumption = drinks.groupby('continent')['beer_servings'].mean()\n",
    "    print(\"Số lượng bia tiêu thụ trung bình ở mỗi châu lục:\")\n",
    "    print(average_beer_consumption)\n",
    "else:\n",
    "    print(\"Cột 'continent' hoặc 'beer_servings' không tồn tại trong dữ liệu.\")"
   ]
  },
  {
   "cell_type": "markdown",
   "metadata": {},
   "source": [
    "Câu 3"
   ]
  },
  {
   "cell_type": "code",
   "execution_count": null,
   "metadata": {},
   "outputs": [
    {
     "name": "stdout",
     "output_type": "stream",
     "text": [
      "Thông tin thống kê tổng quát về lượng rượu vang tiêu thụ ở mỗi châu lục:\n",
      "           count        mean        std  min   25%    50%     75%    max\n",
      "continent                                                               \n",
      "AF          53.0   16.264151  38.846419  0.0   1.0    2.0   13.00  233.0\n",
      "AS          44.0    9.068182  21.667034  0.0   0.0    1.0    8.00  123.0\n",
      "EU          45.0  142.222222  97.421738  0.0  59.0  128.0  195.00  370.0\n",
      "OC          16.0   35.625000  64.555790  0.0   1.0    8.5   23.25  212.0\n",
      "SA          12.0   62.416667  88.620189  1.0   3.0   12.0   98.50  221.0\n"
     ]
    }
   ],
   "source": [
    "\n",
    "if 'continent' in drinks.columns and 'wine_servings' in drinks.columns:\n",
    "\n",
    "    wine_stats = drinks.groupby('continent')['wine_servings'].describe()\n",
    "    \n",
    "    print(\"Thông tin thống kê tổng quát về lượng rượu vang tiêu thụ ở mỗi châu lục:\")\n",
    "    print(wine_stats)\n",
    "else:\n",
    "    print(\"Cột 'continent' hoặc 'wine_servings' không tồn tại trong dữ liệu.\")"
   ]
  },
  {
   "cell_type": "markdown",
   "metadata": {},
   "source": [
    "Câu 4"
   ]
  },
  {
   "cell_type": "code",
   "execution_count": null,
   "metadata": {},
   "outputs": [
    {
     "name": "stdout",
     "output_type": "stream",
     "text": [
      "Số lượng trung bình của bia và rượu tiêu thụ ở mỗi châu lục:\n",
      "           beer_servings  spirit_servings\n",
      "continent                                \n",
      "AF             61.471698        16.339623\n",
      "AS             37.045455        60.840909\n",
      "EU            193.777778       132.555556\n",
      "OC             89.687500        58.437500\n",
      "SA            175.083333       114.750000\n"
     ]
    }
   ],
   "source": [
    "if 'continent' in drinks.columns and 'beer_servings' in drinks.columns and 'spirit_servings' in drinks.columns:\n",
    "\n",
    "    average_consumption = drinks.groupby('continent')[['beer_servings', 'spirit_servings']].mean()\n",
    "    \n",
    "    print(\"Số lượng trung bình của bia và rượu tiêu thụ ở mỗi châu lục:\")\n",
    "    print(average_consumption)\n",
    "else:\n",
    "    print(\"Cột 'continent', 'beer_servings' hoặc 'spirit_servings' không tồn tại trong dữ liệu.\")"
   ]
  },
  {
   "cell_type": "markdown",
   "metadata": {},
   "source": [
    "Câu 5\n"
   ]
  },
  {
   "cell_type": "code",
   "execution_count": null,
   "metadata": {},
   "outputs": [
    {
     "name": "stdout",
     "output_type": "stream",
     "text": [
      "Giá trị trung vị của bia và rượu tiêu thụ ở mỗi châu lục:\n",
      "           beer_servings  spirit_servings\n",
      "continent                                \n",
      "AF                  32.0              3.0\n",
      "AS                  17.5             16.0\n",
      "EU                 219.0            122.0\n",
      "OC                  52.5             37.0\n",
      "SA                 162.5            108.5\n"
     ]
    }
   ],
   "source": [
    "if 'continent' in drinks.columns and 'beer_servings' in drinks.columns and 'spirit_servings' in drinks.columns:\n",
    "\n",
    "    median_consumption = drinks.groupby('continent')[['beer_servings', 'spirit_servings']].median()\n",
    "    \n",
    "    print(\"Giá trị trung vị của bia và rượu tiêu thụ ở mỗi châu lục:\")\n",
    "    print(median_consumption)\n",
    "else:\n",
    "    print(\"Cột 'continent', 'beer_servings' hoặc 'spirit_servings' không tồn tại trong dữ liệu.\")"
   ]
  },
  {
   "cell_type": "markdown",
   "metadata": {},
   "source": [
    "Câu 6\n"
   ]
  },
  {
   "cell_type": "code",
   "execution_count": null,
   "metadata": {},
   "outputs": [
    {
     "name": "stdout",
     "output_type": "stream",
     "text": [
      "Số lượng rượu mạnh tiêu thụ trung bình, lớn nhất và nhỏ nhất ở mỗi châu lục:\n",
      "                 mean  max  min\n",
      "continent                      \n",
      "AF          16.339623  152    0\n",
      "AS          60.840909  326    0\n",
      "EU         132.555556  373    0\n",
      "OC          58.437500  254    0\n",
      "SA         114.750000  302   25\n"
     ]
    }
   ],
   "source": [
    "if 'continent' in drinks.columns and 'spirit_servings' in drinks.columns:\n",
    "   \n",
    "    spirit_stats = drinks.groupby('continent')['spirit_servings'].agg(['mean', 'max', 'min'])\n",
    "    \n",
    "    print(\"Số lượng rượu mạnh tiêu thụ trung bình, lớn nhất và nhỏ nhất ở mỗi châu lục:\")\n",
    "    print(spirit_stats)\n",
    "else:\n",
    "    print(\"Cột 'continent' hoặc 'spirit_servings' không tồn tại trong dữ liệu.\")"
   ]
  },
  {
   "cell_type": "markdown",
   "metadata": {},
   "source": [
    "Câu 7\n"
   ]
  },
  {
   "cell_type": "code",
   "execution_count": null,
   "metadata": {},
   "outputs": [
    {
     "name": "stdout",
     "output_type": "stream",
     "text": [
      "5 quốc gia có lượng tiêu thụ bia nhiều nhất:\n",
      "            country  beer_servings\n",
      "98        Lithuania            343\n",
      "65          Germany            346\n",
      "62            Gabon            347\n",
      "45   Czech Republic            361\n",
      "117         Namibia            376\n",
      "\n",
      "5 quốc gia có lượng tiêu thụ bia ít nhất:\n",
      "          country  beer_servings\n",
      "0     Afghanistan              0\n",
      "13     Bangladesh              0\n",
      "40   Cook Islands              0\n",
      "46    North Korea              0\n",
      "111        Monaco              0\n"
     ]
    }
   ],
   "source": [
    "if 'beer_servings' in drinks.columns:\n",
    "    sorted_drinks = drinks.sort_values(by='beer_servings')\n",
    "\n",
    "    top_5_beer = sorted_drinks.tail(5)\n",
    "\n",
    "    bottom_5_beer = sorted_drinks.head(5)\n",
    "\n",
    "    print(\"5 quốc gia có lượng tiêu thụ bia nhiều nhất:\")\n",
    "    print(top_5_beer[['country', 'beer_servings']])\n",
    "\n",
    "    print(\"\\n5 quốc gia có lượng tiêu thụ bia ít nhất:\")\n",
    "    print(bottom_5_beer[['country', 'beer_servings']])\n",
    "else:\n",
    "    print(\"Cột 'beer_servings' không tồn tại trong dữ liệu.\")"
   ]
  }
 ],
 "metadata": {
  "kernelspec": {
   "display_name": "Python 3",
   "language": "python",
   "name": "python3"
  },
  "language_info": {
   "codemirror_mode": {
    "name": "ipython",
    "version": 3
   },
   "file_extension": ".py",
   "mimetype": "text/x-python",
   "name": "python",
   "nbconvert_exporter": "python",
   "pygments_lexer": "ipython3",
   "version": "3.13.1"
  }
 },
 "nbformat": 4,
 "nbformat_minor": 2
}
