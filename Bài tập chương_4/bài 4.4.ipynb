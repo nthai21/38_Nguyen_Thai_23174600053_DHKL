{
 "cells": [
  {
   "cell_type": "code",
   "execution_count": 1,
   "metadata": {},
   "outputs": [],
   "source": [
    "import pandas as pd\n",
    "import numpy as np\n"
   ]
  },
  {
   "cell_type": "code",
   "execution_count": 2,
   "metadata": {},
   "outputs": [],
   "source": [
    "ser1=pd.Series([1,2,3,4,5])\n",
    "ser2=pd.Series([4,5,6,7,8])\n"
   ]
  },
  {
   "cell_type": "markdown",
   "metadata": {},
   "source": [
    "Câu 1"
   ]
  },
  {
   "cell_type": "code",
   "execution_count": 3,
   "metadata": {},
   "outputs": [
    {
     "name": "stdout",
     "output_type": "stream",
     "text": [
      "\n",
      "Series ser1 sau khi xóa các mục có trong ser2:\n",
      "0    1\n",
      "1    2\n",
      "2    3\n",
      "dtype: int64\n"
     ]
    }
   ],
   "source": [
    "filtered_ser1 = ser1[~ser1.isin(ser2)]\n",
    "\n",
    "print(\"\\nSeries ser1 sau khi xóa các mục có trong ser2:\")\n",
    "print(filtered_ser1)"
   ]
  },
  {
   "cell_type": "markdown",
   "metadata": {},
   "source": [
    "Câu 2\n"
   ]
  },
  {
   "cell_type": "code",
   "execution_count": 4,
   "metadata": {},
   "outputs": [
    {
     "name": "stdout",
     "output_type": "stream",
     "text": [
      "\n",
      "Các mục của ser1 và ser2 nhưng không nằm chung trong cả hai:\n",
      "0    1\n",
      "1    2\n",
      "2    3\n",
      "3    6\n",
      "4    7\n",
      "5    8\n",
      "dtype: int64\n"
     ]
    }
   ],
   "source": [
    "symmetric_diff = pd.Series(list(set(ser1).symmetric_difference(set(ser2))))\n",
    "\n",
    "print(\"\\nCác mục của ser1 và ser2 nhưng không nằm chung trong cả hai:\")\n",
    "print(symmetric_diff)"
   ]
  }
 ],
 "metadata": {
  "kernelspec": {
   "display_name": "Python 3",
   "language": "python",
   "name": "python3"
  },
  "language_info": {
   "codemirror_mode": {
    "name": "ipython",
    "version": 3
   },
   "file_extension": ".py",
   "mimetype": "text/x-python",
   "name": "python",
   "nbconvert_exporter": "python",
   "pygments_lexer": "ipython3",
   "version": "3.13.1"
  }
 },
 "nbformat": 4,
 "nbformat_minor": 2
}
