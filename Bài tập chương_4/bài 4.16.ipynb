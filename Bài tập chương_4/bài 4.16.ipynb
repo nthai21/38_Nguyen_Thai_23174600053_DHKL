{
 "cells": [
  {
   "cell_type": "code",
   "execution_count": 2,
   "metadata": {},
   "outputs": [],
   "source": [
    "import pandas as pd\n",
    "import numpy as np"
   ]
  },
  {
   "cell_type": "code",
   "execution_count": 3,
   "metadata": {},
   "outputs": [
    {
     "name": "stdout",
     "output_type": "stream",
     "text": [
      "Hiệu số giữa các phần tử trong ser:\n",
      "0    NaN\n",
      "1    2.0\n",
      "2    3.0\n",
      "3    4.0\n",
      "4    5.0\n",
      "5    6.0\n",
      "6    6.0\n",
      "7    8.0\n",
      "dtype: float64\n",
      "\n",
      "Hiệu số của các hiệu số giữa:\n",
      "0    NaN\n",
      "1    NaN\n",
      "2    1.0\n",
      "3    1.0\n",
      "4    1.0\n",
      "5    1.0\n",
      "6    0.0\n",
      "7    2.0\n",
      "dtype: float64\n"
     ]
    }
   ],
   "source": [
    "ser=pd.Series([1,3,6,10,15,21,27,35])\n",
    "diff_ser = ser.diff()\n",
    "\n",
    "# Tính hiệu số của các hiệu số giữa\n",
    "second_diff_ser = diff_ser.diff()\n",
    "\n",
    "print(\"Hiệu số giữa các phần tử trong ser:\")\n",
    "print(diff_ser)\n",
    "\n",
    "print(\"\\nHiệu số của các hiệu số giữa:\")\n",
    "print(second_diff_ser)"
   ]
  }
 ],
 "metadata": {
  "kernelspec": {
   "display_name": "Python 3",
   "language": "python",
   "name": "python3"
  },
  "language_info": {
   "codemirror_mode": {
    "name": "ipython",
    "version": 3
   },
   "file_extension": ".py",
   "mimetype": "text/x-python",
   "name": "python",
   "nbconvert_exporter": "python",
   "pygments_lexer": "ipython3",
   "version": "3.13.1"
  }
 },
 "nbformat": 4,
 "nbformat_minor": 2
}
