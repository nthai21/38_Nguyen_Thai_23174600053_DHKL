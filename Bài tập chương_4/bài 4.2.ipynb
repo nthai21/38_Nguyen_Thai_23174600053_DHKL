{
 "cells": [
  {
   "cell_type": "code",
   "execution_count": 3,
   "metadata": {},
   "outputs": [],
   "source": [
    "import pandas as pd\n",
    "import numpy as np"
   ]
  },
  {
   "cell_type": "code",
   "execution_count": 4,
   "metadata": {},
   "outputs": [],
   "source": [
    "mylist=list('abcdfghijklmnoqprstuvwxyz')\n",
    "myarr= np.arange(26)\n",
    "mydict=dict(zip(mylist,myarr))\n",
    "ser=pd.Series(mydict)"
   ]
  },
  {
   "cell_type": "code",
   "execution_count": null,
   "metadata": {},
   "outputs": [
    {
     "name": "stdout",
     "output_type": "stream",
     "text": [
      "Chuỗi ban đầu (ser):\n",
      "a     0\n",
      "b     1\n",
      "c     2\n",
      "d     3\n",
      "f     4\n",
      "g     5\n",
      "h     6\n",
      "i     7\n",
      "j     8\n",
      "k     9\n",
      "l    10\n",
      "m    11\n",
      "n    12\n",
      "o    13\n",
      "q    14\n",
      "p    15\n",
      "r    16\n",
      "s    17\n",
      "t    18\n",
      "u    19\n",
      "v    20\n",
      "w    21\n",
      "x    22\n",
      "y    23\n",
      "z    24\n",
      "dtype: int64\n",
      "\n",
      "DataFrame sau khi chuyển đổi:\n",
      "   index  values\n",
      "0      a       0\n",
      "1      b       1\n",
      "2      c       2\n",
      "3      d       3\n",
      "4      f       4\n",
      "5      g       5\n",
      "6      h       6\n",
      "7      i       7\n",
      "8      j       8\n",
      "9      k       9\n",
      "10     l      10\n",
      "11     m      11\n",
      "12     n      12\n",
      "13     o      13\n",
      "14     q      14\n",
      "15     p      15\n",
      "16     r      16\n",
      "17     s      17\n",
      "18     t      18\n",
      "19     u      19\n",
      "20     v      20\n",
      "21     w      21\n",
      "22     x      22\n",
      "23     y      23\n",
      "24     z      24\n"
     ]
    }
   ],
   "source": [
    "print(\"Chuỗi ban đầu (ser):\")\n",
    "print(ser)\n",
    "df = ser.reset_index()\n",
    "df.columns = ['index', 'values']  # Đặt tên cột cho dễ đọc\n",
    "\n",
    "print(\"\\nDataFrame sau khi chuyển đổi:\")\n",
    "print(df)"
   ]
  }
 ],
 "metadata": {
  "kernelspec": {
   "display_name": "Python 3",
   "language": "python",
   "name": "python3"
  },
  "language_info": {
   "codemirror_mode": {
    "name": "ipython",
    "version": 3
   },
   "file_extension": ".py",
   "mimetype": "text/x-python",
   "name": "python",
   "nbconvert_exporter": "python",
   "pygments_lexer": "ipython3",
   "version": "3.13.1"
  }
 },
 "nbformat": 4,
 "nbformat_minor": 2
}
