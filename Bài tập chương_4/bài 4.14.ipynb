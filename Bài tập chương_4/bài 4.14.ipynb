{
 "cells": [
  {
   "cell_type": "code",
   "execution_count": 2,
   "metadata": {},
   "outputs": [],
   "source": [
    "import pandas as pd\n",
    "import numpy as np\n"
   ]
  },
  {
   "cell_type": "code",
   "execution_count": 3,
   "metadata": {},
   "outputs": [
    {
     "name": "stdout",
     "output_type": "stream",
     "text": [
      "Chuỗi truth:\n",
      "0    0\n",
      "1    1\n",
      "2    2\n",
      "3    3\n",
      "4    4\n",
      "5    5\n",
      "6    6\n",
      "7    7\n",
      "8    8\n",
      "9    9\n",
      "dtype: int64\n",
      "\n",
      "Chuỗi pred:\n",
      "0    0.541675\n",
      "1    1.006657\n",
      "2    2.616623\n",
      "3    3.338828\n",
      "4    4.655524\n",
      "5    5.009985\n",
      "6    6.030592\n",
      "7    7.652003\n",
      "8    8.651874\n",
      "9    9.048278\n",
      "dtype: float64\n",
      "\n",
      "Sai số trung bình (MAE): 0.3552\n"
     ]
    }
   ],
   "source": [
    "truth=pd.Series(range(10))\n",
    "pred=pd.Series(range(10))+np.random.random(10)\n",
    "mae = (truth - pred).abs().mean()\n",
    "\n",
    "print(\"Chuỗi truth:\")\n",
    "print(truth)\n",
    "print(\"\\nChuỗi pred:\")\n",
    "print(pred)\n",
    "print(f\"\\nSai số trung bình (MAE): {mae:.4f}\")\n",
    "\n"
   ]
  }
 ],
 "metadata": {
  "kernelspec": {
   "display_name": "Python 3",
   "language": "python",
   "name": "python3"
  },
  "language_info": {
   "codemirror_mode": {
    "name": "ipython",
    "version": 3
   },
   "file_extension": ".py",
   "mimetype": "text/x-python",
   "name": "python",
   "nbconvert_exporter": "python",
   "pygments_lexer": "ipython3",
   "version": "3.13.1"
  }
 },
 "nbformat": 4,
 "nbformat_minor": 2
}
